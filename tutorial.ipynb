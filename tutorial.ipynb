{
 "cells": [
  {
   "cell_type": "markdown",
   "metadata": {},
   "source": [
    "# Basic SCS Interface\n",
    "\n",
    "This tutorial only covers the specifics of the Python SCS interface. For background and descriptions of the optimization problem being solved, the matrix `A`, vectors `b` and `c`, and the `cone` dictionary, please see the [SCS README](https://github.com/cvxgrp/scs)."
   ]
  },
  {
   "cell_type": "code",
   "execution_count": 1,
   "metadata": {
    "collapsed": true
   },
   "outputs": [],
   "source": [
    "import scs"
   ]
  },
  {
   "cell_type": "markdown",
   "metadata": {},
   "source": [
    "We'll load data for an example problem."
   ]
  },
  {
   "cell_type": "code",
   "execution_count": 2,
   "metadata": {
    "collapsed": false
   },
   "outputs": [
    {
     "name": "stdout",
     "output_type": "stream",
     "text": [
      "Data:  {'A': <10000x8000 sparse matrix of type '<type 'numpy.float64'>'\n",
      "\twith 816000 stored elements in Compressed Sparse Column format>, 'c': array([ 0.,  0.,  0., ...,  1.,  1.,  1.]), 'b': array([-1.06370562,  1.2659559 ,  0.0602342 , ...,  0.        ,\n",
      "        0.        ,  0.        ])}\n",
      "Cone:  {'l': 8000, 'f': 2000}\n"
     ]
    }
   ],
   "source": [
    "m = 2000\n",
    "data, cone = scs.examples.l1(m=m)\n",
    "print 'data: ', data\n",
    "print 'cone: ', cone"
   ]
  },
  {
   "cell_type": "markdown",
   "metadata": {},
   "source": [
    "Use `scs.solve()` to compute the solution. `data` and `cone` are required arguments. Solver settings can be passed as keyword arguments. `result` is a dictionary with keys `'x'`, `'y'`, `'s'` (corresponding to problem variables), and `'info'` (a `dict` giving solver status information)."
   ]
  },
  {
   "cell_type": "code",
   "execution_count": 3,
   "metadata": {
    "collapsed": false
   },
   "outputs": [
    {
     "name": "stdout",
     "output_type": "stream",
     "text": [
      "---###---\n",
      "CPU times: user 16.6 s, sys: 177 ms, total: 16.7 s\n",
      "Wall time: 17.5 s\n"
     ]
    }
   ],
   "source": [
    "%%time\n",
    "result = scs.solve(data, cone, use_indirect=True, verbose=False)\n",
    "print('---###---')"
   ]
  },
  {
   "cell_type": "code",
   "execution_count": 4,
   "metadata": {
    "collapsed": false,
    "scrolled": true
   },
   "outputs": [
    {
     "name": "stdout",
     "output_type": "stream",
     "text": [
      "['y', 'x', 's', 'info']\n"
     ]
    },
    {
     "data": {
      "text/plain": [
       "{'dobj': 236.77453426584182,\n",
       " 'iter': 540,\n",
       " 'pobj': 236.77533277641038,\n",
       " 'relGap': 1.6826694600814932e-06,\n",
       " 'resDual': 0.000992509383044581,\n",
       " 'resInfeas': 11.836075870338009,\n",
       " 'resPri': 0.0006946113096443507,\n",
       " 'resUnbdd': nan,\n",
       " 'setupTime': 70.512216,\n",
       " 'solveTime': 17383.026628,\n",
       " 'status': u'Solved',\n",
       " 'statusVal': 1}"
      ]
     },
     "execution_count": 4,
     "metadata": {},
     "output_type": "execute_result"
    }
   ],
   "source": [
    "print result.keys()\n",
    "result['info']"
   ]
  },
  {
   "cell_type": "markdown",
   "metadata": {},
   "source": [
    "A **copy** of the SCS default solver settings can be seen by calling `scs.default_settings()`."
   ]
  },
  {
   "cell_type": "code",
   "execution_count": 5,
   "metadata": {
    "collapsed": false
   },
   "outputs": [
    {
     "data": {
      "text/plain": [
       "{'alpha': 1.5,\n",
       " 'cg_rate': 2.0,\n",
       " 'eps': 0.001,\n",
       " 'max_iters': 2500,\n",
       " 'normalize': True,\n",
       " 'rho_x': 0.001,\n",
       " 'scale': 1.0,\n",
       " 'use_indirect': False,\n",
       " 'verbose': True,\n",
       " 'warm_start': False}"
      ]
     },
     "execution_count": 5,
     "metadata": {},
     "output_type": "execute_result"
    }
   ],
   "source": [
    "scs.default_settings()"
   ]
  },
  {
   "cell_type": "markdown",
   "metadata": {},
   "source": [
    "# Warm-Starting\n",
    "\n",
    "The solver can be warm-started with vectors `x`, `y`, and `s` which are expected to be close to the solution. This can reduce the number of iterations needed to converge.\n",
    "\n",
    "Pass a dictionary with keys `'x'`, `'y'`, and `'s'` to the `sol` parameter of `scs.solve()`, and set the option `warm_start=True`. Note that all three vectors are needed to warm-start.\n",
    "\n",
    "Below, we use the previous solution to warm-start the solver on the same problem, and see that this allows the solver to exit after 0 iterations."
   ]
  },
  {
   "cell_type": "code",
   "execution_count": 6,
   "metadata": {
    "collapsed": false,
    "scrolled": true
   },
   "outputs": [
    {
     "name": "stdout",
     "output_type": "stream",
     "text": [
      "----------------------------------------------------------------------------\n",
      "\tSCS v1.1.8 - Splitting Conic Solver\n",
      "\t(c) Brendan O'Donoghue, Stanford University, 2012-2015\n",
      "----------------------------------------------------------------------------\n",
      "Lin-sys: sparse-direct, nnz in A = 816000\n",
      "eps = 1.00e-03, alpha = 1.50, max_iters = 2500, normalize = 1, scale = 1.00\n",
      "Variables n = 8000, constraints m = 10000\n",
      "Cones:\tprimal zero / dual free vars: 2000\n",
      "\tlinear vars: 8000\n",
      "Setup time: 3.94e+00s\n",
      "SCS using variable warm-starting\n",
      "----------------------------------------------------------------------------\n",
      " Iter | pri res | dua res | rel gap | pri obj | dua obj | kap/tau | time (s)\n",
      "----------------------------------------------------------------------------\n",
      "     0| 6.91e-04  9.92e-04  1.44e-06  2.37e+02  2.37e+02  0.00e+00  3.52e-02 \n",
      "----------------------------------------------------------------------------\n",
      "Status: Solved\n",
      "Timing: Solve time: 3.54e-02s\n",
      "\tLin-sys: nnz in L factor: 2837000, avg solve time: 2.95e-02s\n",
      "\tCones: avg projection time: 3.20e-05s\n",
      "----------------------------------------------------------------------------\n",
      "Error metrics:\n",
      "dist(s, K) = 5.5971e-16, dist(y, K*) = 0.0000e+00, s'y/m = 2.5554e-19\n",
      "|Ax + s - b|_2 / (1 + |b|_2) = 6.9054e-04\n",
      "|A'y + c|_2 / (1 + |c|_2) = 9.9158e-04\n",
      "|c'x + b'y| / (1 + |c'x| + |b'y|) = 1.4413e-06\n",
      "----------------------------------------------------------------------------\n",
      "c'x = 236.7739, -b'y = 236.7732\n",
      "============================================================================\n",
      "---###---\n",
      "CPU times: user 3.87 s, sys: 96.8 ms, total: 3.97 s\n",
      "Wall time: 3.99 s\n"
     ]
    }
   ],
   "source": [
    "%%time\n",
    "sol = dict(x=result['x'],y=result['y'],s=result['s'])\n",
    "result = scs.solve(data, cone, sol=sol, verbose=True, warm_start=True, use_indirect=False)\n",
    "print('---###---')"
   ]
  },
  {
   "cell_type": "markdown",
   "metadata": {},
   "source": [
    "We can confirm the number of iterations by inspecting the `'info'` dictionary. Note that even though\n",
    "the solver needed 0 iterations to converge, it still had to perform a matrix factorization (since `use_indirect=False`), which took about 4 seconds."
   ]
  },
  {
   "cell_type": "code",
   "execution_count": 7,
   "metadata": {
    "collapsed": false
   },
   "outputs": [
    {
     "data": {
      "text/plain": [
       "{'dobj': 236.7732123928627,\n",
       " 'iter': 0,\n",
       " 'pobj': 236.77389637859108,\n",
       " 'relGap': 1.4413442116573387e-06,\n",
       " 'resDual': 0.000991580023177425,\n",
       " 'resInfeas': 11.8361571901985,\n",
       " 'resPri': 0.0006905369290310406,\n",
       " 'resUnbdd': nan,\n",
       " 'setupTime': 3937.024572,\n",
       " 'solveTime': 35.38458,\n",
       " 'status': u'Solved',\n",
       " 'statusVal': 1}"
      ]
     },
     "execution_count": 7,
     "metadata": {},
     "output_type": "execute_result"
    }
   ],
   "source": [
    "result['info']"
   ]
  },
  {
   "cell_type": "markdown",
   "metadata": {},
   "source": [
    "# Factorization Caching Interface\n",
    "\n",
    "When using the direct method (`use_indirect=False`), we can cache the matrix factorization of `A`, and reuse it across several solves. This is useful when solving a sequence or family of problems where `A` is fixed, but `b` and `c` may change.\n",
    "\n",
    "The `scs.Workspace` object caches the matrix factorization for us, and allows us to call the solver many times with different values for `b` and `c`. We can also optionally warm-start the solver, and change **some** of the solver settings between solves.\n",
    "\n",
    "Below, we initialize the `Workspace` object with the same data as above, and note that the setup time (factorization time) is still approximately 4 seconds. Note that the `Workspace` defaults to the direct (factorization) method because `use_indirect=False`, unless the user specifies otherwise."
   ]
  },
  {
   "cell_type": "code",
   "execution_count": 8,
   "metadata": {
    "collapsed": false
   },
   "outputs": [
    {
     "name": "stdout",
     "output_type": "stream",
     "text": [
      "----------------------------------------------------------------------------\n",
      "\tSCS v1.1.8 - Splitting Conic Solver\n",
      "\t(c) Brendan O'Donoghue, Stanford University, 2012-2015\n",
      "----------------------------------------------------------------------------\n",
      "Lin-sys: sparse-direct, nnz in A = 816000\n",
      "eps = 1.00e-03, alpha = 1.50, max_iters = 2500, normalize = 1, scale = 1.00\n",
      "Variables n = 8000, constraints m = 10000\n",
      "Cones:\tprimal zero / dual free vars: 2000\n",
      "\tlinear vars: 8000\n",
      "Setup time: 4.31e+00s\n",
      "---###---\n",
      "CPU times: user 4.15 s, sys: 65.1 ms, total: 4.22 s\n",
      "Wall time: 4.31 s\n"
     ]
    }
   ],
   "source": [
    "%%time\n",
    "work = scs.Workspace(data, cone)\n",
    "print('---###---')"
   ]
  },
  {
   "cell_type": "markdown",
   "metadata": {},
   "source": [
    "## `work.info`\n",
    "\n",
    "`work.info` will give a **copy** of the `info` dictionary, showing solver status information. Since only the setup has run, only the `setupTime` key is nonzero."
   ]
  },
  {
   "cell_type": "code",
   "execution_count": 9,
   "metadata": {
    "collapsed": false
   },
   "outputs": [
    {
     "data": {
      "text/plain": [
       "{'dobj': 0.0,\n",
       " 'iter': 0,\n",
       " 'pobj': 0.0,\n",
       " 'relGap': 0.0,\n",
       " 'resDual': 0.0,\n",
       " 'resInfeas': 0.0,\n",
       " 'resPri': 0.0,\n",
       " 'resUnbdd': 0.0,\n",
       " 'setupTime': 4309.260194,\n",
       " 'solveTime': 0.0,\n",
       " 'status': u'',\n",
       " 'statusVal': 0}"
      ]
     },
     "execution_count": 9,
     "metadata": {},
     "output_type": "execute_result"
    }
   ],
   "source": [
    "work.info"
   ]
  },
  {
   "cell_type": "markdown",
   "metadata": {},
   "source": [
    "## `work.settings`\n",
    "\n",
    "The `Workspace` object records changes to the user-specified settings. They can be inspected and modified through the\n",
    "`work.settings` dictionary. When the solver is run, it will operate based on the current `settings`.\n",
    "\n",
    "Some settings cannot be changed once the `Workspace` object is initialized:\n",
    "- `use_indirect`\n",
    "- `normalize`\n",
    "- `scale`\n",
    "- `rho_x`"
   ]
  },
  {
   "cell_type": "code",
   "execution_count": 10,
   "metadata": {
    "collapsed": false
   },
   "outputs": [
    {
     "data": {
      "text/plain": [
       "{'alpha': 1.5,\n",
       " 'cg_rate': 2.0,\n",
       " 'eps': 0.001,\n",
       " 'max_iters': 2500,\n",
       " 'normalize': True,\n",
       " 'rho_x': 0.001,\n",
       " 'scale': 1.0,\n",
       " 'use_indirect': False,\n",
       " 'verbose': True,\n",
       " 'warm_start': False}"
      ]
     },
     "execution_count": 10,
     "metadata": {},
     "output_type": "execute_result"
    }
   ],
   "source": [
    "work.settings"
   ]
  },
  {
   "cell_type": "markdown",
   "metadata": {},
   "source": [
    "## `work.data`\n",
    "\n",
    "The vectors `b` and `c` can be modified through the `work.data` dictionary. Please do not modify the matrix `A` after the `Workspace` has been initialized. Changing it will give incorrect results, since the cached matrix factorization depends on the original `A`."
   ]
  },
  {
   "cell_type": "code",
   "execution_count": 11,
   "metadata": {
    "collapsed": false
   },
   "outputs": [
    {
     "data": {
      "text/plain": [
       "{'A': <10000x8000 sparse matrix of type '<type 'numpy.float64'>'\n",
       " \twith 816000 stored elements in Compressed Sparse Column format>,\n",
       " 'b': array([-1.06370562,  1.2659559 ,  0.0602342 , ...,  0.        ,\n",
       "         0.        ,  0.        ]),\n",
       " 'c': array([ 0.,  0.,  0., ...,  1.,  1.,  1.])}"
      ]
     },
     "execution_count": 11,
     "metadata": {},
     "output_type": "execute_result"
    }
   ],
   "source": [
    "work.data"
   ]
  },
  {
   "cell_type": "markdown",
   "metadata": {},
   "source": [
    "## `work.sol`\n",
    "The solution vectors `x`, `y`, and `s` are stored in `work.sol`. These are the `numpy` arrays where the solution will be written. The user is free to modify this dictionary and/or the vectors themselves, but do ensure the sizes of the vectors remain unchanged.\n",
    "\n",
    "The user may change these vectors at any time to write the solution to a different location, or to input warm-starting vectors.\n",
    "\n",
    "By default, the `Workspace()` constructor will create empty `numpy` arrays to populate `work.sol`. The user can supply their own by passing a dictionary to the `sol` keyword argument of `Workspace()`."
   ]
  },
  {
   "cell_type": "code",
   "execution_count": 12,
   "metadata": {
    "collapsed": false
   },
   "outputs": [
    {
     "data": {
      "text/plain": [
       "{'s': array([ 0.,  0.,  0., ...,  0.,  0.,  0.]),\n",
       " 'x': array([ 0.,  0.,  0., ...,  0.,  0.,  0.]),\n",
       " 'y': array([ 0.,  0.,  0., ...,  0.,  0.,  0.])}"
      ]
     },
     "execution_count": 12,
     "metadata": {},
     "output_type": "execute_result"
    }
   ],
   "source": [
    "work.sol"
   ]
  },
  {
   "cell_type": "markdown",
   "metadata": {},
   "source": [
    "## `work.solve()`\n",
    "\n",
    "`work.solve()` will call the solver based on the current `settings`, `sol` (if `warm_start=True`), `data['b']` and `data['c']`.\n",
    "\n",
    "Calling the solver below, note that we skip the setup step, and go right to the iterative procedure."
   ]
  },
  {
   "cell_type": "code",
   "execution_count": 13,
   "metadata": {
    "collapsed": false
   },
   "outputs": [
    {
     "name": "stdout",
     "output_type": "stream",
     "text": [
      "----------------------------------------------------------------------------\n",
      " Iter | pri res | dua res | rel gap | pri obj | dua obj | kap/tau | time (s)\n",
      "----------------------------------------------------------------------------\n",
      "     0|      inf       inf       nan      -inf       inf       inf  3.92e-02 \n",
      "   100| 7.99e-03  1.05e-02  3.04e-05  2.37e+02  2.37e+02  1.13e-14  1.31e+00 \n",
      "   200| 3.13e-03  4.02e-03  7.04e-06  2.37e+02  2.37e+02  1.13e-14  3.22e+00 \n",
      "   300| 1.77e-03  2.30e-03  1.38e-06  2.37e+02  2.37e+02  1.13e-14  4.33e+00 \n",
      "   400| 1.11e-03  1.53e-03  2.07e-06  2.37e+02  2.37e+02  1.13e-14  5.36e+00 \n",
      "   500| 7.85e-04  1.09e-03  5.64e-07  2.37e+02  2.37e+02  1.13e-14  6.45e+00 \n",
      "   540| 6.89e-04  9.95e-04  1.08e-06  2.37e+02  2.37e+02  1.13e-14  6.88e+00 \n",
      "----------------------------------------------------------------------------\n",
      "Status: Solved\n",
      "Timing: Solve time: 6.88e+00s\n",
      "\tLin-sys: nnz in L factor: 2837000, avg solve time: 1.23e-02s\n",
      "\tCones: avg projection time: 3.58e-05s\n",
      "----------------------------------------------------------------------------\n",
      "Error metrics:\n",
      "dist(s, K) = 4.3170e-16, dist(y, K*) = 0.0000e+00, s'y/m = -4.7469e-20\n",
      "|Ax + s - b|_2 / (1 + |b|_2) = 6.8930e-04\n",
      "|A'y + c|_2 / (1 + |c|_2) = 9.9460e-04\n",
      "|c'x + b'y| / (1 + |c'x| + |b'y|) = 1.0753e-06\n",
      "----------------------------------------------------------------------------\n",
      "c'x = 236.7757, -b'y = 236.7752\n",
      "============================================================================\n",
      "---###---\n",
      "CPU times: user 6.3 s, sys: 87.5 ms, total: 6.39 s\n",
      "Wall time: 6.89 s\n"
     ]
    }
   ],
   "source": [
    "%%time\n",
    "result = work.solve()\n",
    "print('---###---')"
   ]
  },
  {
   "cell_type": "markdown",
   "metadata": {},
   "source": [
    "Note that the solution is stored in the `work` object in `work.sol`."
   ]
  },
  {
   "cell_type": "code",
   "execution_count": 14,
   "metadata": {
    "collapsed": false
   },
   "outputs": [
    {
     "data": {
      "text/plain": [
       "{'s': array([  5.71284582e-17,  -1.17107198e-16,   1.10606304e-16, ...,\n",
       "         -7.06831992e-18,   5.30123994e-18,   2.41232642e-01]),\n",
       " 'x': array([  7.10379611e-05,   2.99788766e-05,  -1.08941016e-05, ...,\n",
       "         -4.98375019e-08,  -4.98375019e-08,   1.20615895e-01]),\n",
       " 'y': array([ 0.19930045, -0.21738546,  0.24355537, ...,  0.89722381,\n",
       "         0.7904324 ,  0.        ])}"
      ]
     },
     "execution_count": 14,
     "metadata": {},
     "output_type": "execute_result"
    }
   ],
   "source": [
    "work.sol"
   ]
  },
  {
   "cell_type": "markdown",
   "metadata": {},
   "source": [
    "## Caching and warm-starting\n",
    "\n",
    "We can solve the same problem with the cached matrix factorization and a warm-started solution by calling\n",
    "`work.solve(warm_start=True)`. This should require 0 setup-time (since its already been done) and 0 iterations (since we are warm-starting already at the solution stored in `work.sol`)."
   ]
  },
  {
   "cell_type": "code",
   "execution_count": 15,
   "metadata": {
    "collapsed": false
   },
   "outputs": [
    {
     "name": "stdout",
     "output_type": "stream",
     "text": [
      "SCS using variable warm-starting\n",
      "----------------------------------------------------------------------------\n",
      " Iter | pri res | dua res | rel gap | pri obj | dua obj | kap/tau | time (s)\n",
      "----------------------------------------------------------------------------\n",
      "     0| 6.86e-04  9.92e-04  1.03e-06  2.37e+02  2.37e+02  0.00e+00  3.49e-02 \n",
      "----------------------------------------------------------------------------\n",
      "Status: Solved\n",
      "Timing: Solve time: 3.51e-02s\n",
      "\tLin-sys: nnz in L factor: 2837000, avg solve time: 2.98e-02s\n",
      "\tCones: avg projection time: 8.68e-05s\n",
      "----------------------------------------------------------------------------\n",
      "Error metrics:\n",
      "dist(s, K) = 5.5713e-16, dist(y, K*) = 0.0000e+00, s'y/m = 5.2014e-20\n",
      "|Ax + s - b|_2 / (1 + |b|_2) = 6.8572e-04\n",
      "|A'y + c|_2 / (1 + |c|_2) = 9.9205e-04\n",
      "|c'x + b'y| / (1 + |c'x| + |b'y|) = 1.0261e-06\n",
      "----------------------------------------------------------------------------\n",
      "c'x = 236.7747, -b'y = 236.7742\n",
      "============================================================================\n",
      "---###---\n",
      "CPU times: user 37.3 ms, sys: 2.31 ms, total: 39.6 ms\n",
      "Wall time: 42.8 ms\n"
     ]
    }
   ],
   "source": [
    "%%time\n",
    "result = work.solve(warm_start=True)\n",
    "print('---###---')"
   ]
  },
  {
   "cell_type": "markdown",
   "metadata": {},
   "source": [
    "## Perturbed warm-starting\n",
    "\n",
    "For a more interesting example of warm-starting, we perturb the `b` vector a bit and try to re-solve.\n",
    "However, if we warm-start from the previous solution to the unperturbed problem, we can expect to only need a few iterations to \"correct\" for the perturbation and obtain the new solution."
   ]
  },
  {
   "cell_type": "code",
   "execution_count": 16,
   "metadata": {
    "collapsed": false
   },
   "outputs": [
    {
     "name": "stdout",
     "output_type": "stream",
     "text": [
      "SCS using variable warm-starting\n",
      "----------------------------------------------------------------------------\n",
      " Iter | pri res | dua res | rel gap | pri obj | dua obj | kap/tau | time (s)\n",
      "----------------------------------------------------------------------------\n",
      "     0| 7.63e-04  1.22e-03  3.53e-06  2.37e+02  2.37e+02  0.00e+00  3.55e-02 \n",
      "    20| 6.89e-04  9.90e-04  3.63e-06  2.37e+02  2.37e+02  3.02e-14  2.43e-01 \n",
      "----------------------------------------------------------------------------\n",
      "Status: Solved\n",
      "Timing: Solve time: 2.43e-01s\n",
      "\tLin-sys: nnz in L factor: 2837000, avg solve time: 1.08e-02s\n",
      "\tCones: avg projection time: 3.59e-05s\n",
      "----------------------------------------------------------------------------\n",
      "Error metrics:\n",
      "dist(s, K) = 5.4599e-16, dist(y, K*) = 0.0000e+00, s'y/m = -8.3117e-20\n",
      "|Ax + s - b|_2 / (1 + |b|_2) = 6.8888e-04\n",
      "|A'y + c|_2 / (1 + |c|_2) = 9.8963e-04\n",
      "|c'x + b'y| / (1 + |c'x| + |b'y|) = 3.6280e-06\n",
      "----------------------------------------------------------------------------\n",
      "c'x = 236.7755, -b'y = 236.7737\n",
      "============================================================================\n",
      "---###---\n",
      "CPU times: user 241 ms, sys: 2.1 ms, total: 243 ms\n",
      "Wall time: 245 ms\n"
     ]
    }
   ],
   "source": [
    "%%time\n",
    "# make a small perturbation to b\n",
    "work.data['b'][:m] += .01\n",
    "result = work.solve(warm_start=True)\n",
    "print('---###---')"
   ]
  },
  {
   "cell_type": "markdown",
   "metadata": {},
   "source": [
    "If we attempt to solve the problem without warm-starting, it will require many more iterations (and a longer solve time)."
   ]
  },
  {
   "cell_type": "code",
   "execution_count": 17,
   "metadata": {
    "collapsed": false
   },
   "outputs": [
    {
     "name": "stdout",
     "output_type": "stream",
     "text": [
      "----------------------------------------------------------------------------\n",
      " Iter | pri res | dua res | rel gap | pri obj | dua obj | kap/tau | time (s)\n",
      "----------------------------------------------------------------------------\n",
      "     0|      inf       inf       nan      -inf       inf       inf  3.44e-02 \n",
      "   100| 7.98e-03  1.05e-02  2.65e-05  2.37e+02  2.37e+02  2.26e-14  1.13e+00 \n",
      "   200| 3.13e-03  4.01e-03  9.53e-06  2.37e+02  2.37e+02  2.26e-14  2.13e+00 \n",
      "   300| 1.77e-03  2.30e-03  1.75e-06  2.37e+02  2.37e+02  2.26e-14  3.30e+00 \n",
      "   400| 1.11e-03  1.53e-03  1.21e-06  2.37e+02  2.37e+02  2.26e-14  4.39e+00 \n",
      "   500| 7.54e-04  1.12e-03  1.79e-07  2.37e+02  2.37e+02  2.26e-14  5.39e+00 \n",
      "   540| 6.97e-04  9.78e-04  1.54e-06  2.37e+02  2.37e+02  2.26e-14  5.80e+00 \n",
      "----------------------------------------------------------------------------\n",
      "Status: Solved\n",
      "Timing: Solve time: 5.80e+00s\n",
      "\tLin-sys: nnz in L factor: 2837000, avg solve time: 1.03e-02s\n",
      "\tCones: avg projection time: 3.35e-05s\n",
      "----------------------------------------------------------------------------\n",
      "Error metrics:\n",
      "dist(s, K) = 7.2117e-16, dist(y, K*) = 0.0000e+00, s'y/m = 8.7267e-20\n",
      "|Ax + s - b|_2 / (1 + |b|_2) = 6.9690e-04\n",
      "|A'y + c|_2 / (1 + |c|_2) = 9.7751e-04\n",
      "|c'x + b'y| / (1 + |c'x| + |b'y|) = 1.5362e-06\n",
      "----------------------------------------------------------------------------\n",
      "c'x = 236.7771, -b'y = 236.7764\n",
      "============================================================================\n",
      "---###---\n",
      "CPU times: user 5.72 s, sys: 36.5 ms, total: 5.76 s\n",
      "Wall time: 5.8 s\n"
     ]
    }
   ],
   "source": [
    "%%time\n",
    "result = work.solve(warm_start=False)\n",
    "print('---###---')"
   ]
  },
  {
   "cell_type": "markdown",
   "metadata": {},
   "source": [
    "If we revert even futher and try to solve **without** factorization caching or warm-starting, we can expect an even longer solve time."
   ]
  },
  {
   "cell_type": "code",
   "execution_count": 18,
   "metadata": {
    "collapsed": false
   },
   "outputs": [
    {
     "name": "stdout",
     "output_type": "stream",
     "text": [
      "----------------------------------------------------------------------------\n",
      "\tSCS v1.1.8 - Splitting Conic Solver\n",
      "\t(c) Brendan O'Donoghue, Stanford University, 2012-2015\n",
      "----------------------------------------------------------------------------\n",
      "Lin-sys: sparse-direct, nnz in A = 816000\n",
      "eps = 1.00e-03, alpha = 1.50, max_iters = 2500, normalize = 1, scale = 1.00\n",
      "Variables n = 8000, constraints m = 10000\n",
      "Cones:\tprimal zero / dual free vars: 2000\n",
      "\tlinear vars: 8000\n",
      "Setup time: 4.11e+00s\n",
      "----------------------------------------------------------------------------\n",
      " Iter | pri res | dua res | rel gap | pri obj | dua obj | kap/tau | time (s)\n",
      "----------------------------------------------------------------------------\n",
      "     0|      inf       inf       nan      -inf       inf       inf  3.38e-02 \n",
      "   100| 7.98e-03  1.05e-02  2.65e-05  2.37e+02  2.37e+02  2.26e-14  1.22e+00 \n",
      "   200| 3.13e-03  4.01e-03  9.53e-06  2.37e+02  2.37e+02  2.26e-14  2.43e+00 \n",
      "   300| 1.77e-03  2.30e-03  1.75e-06  2.37e+02  2.37e+02  2.26e-14  3.48e+00 \n",
      "   400| 1.11e-03  1.53e-03  1.21e-06  2.37e+02  2.37e+02  2.26e-14  4.52e+00 \n",
      "   500| 7.54e-04  1.12e-03  1.79e-07  2.37e+02  2.37e+02  2.26e-14  5.56e+00 \n",
      "   540| 6.97e-04  9.78e-04  1.54e-06  2.37e+02  2.37e+02  2.26e-14  5.98e+00 \n",
      "----------------------------------------------------------------------------\n",
      "Status: Solved\n",
      "Timing: Solve time: 5.98e+00s\n",
      "\tLin-sys: nnz in L factor: 2837000, avg solve time: 1.07e-02s\n",
      "\tCones: avg projection time: 3.40e-05s\n",
      "----------------------------------------------------------------------------\n",
      "Error metrics:\n",
      "dist(s, K) = 7.2117e-16, dist(y, K*) = 0.0000e+00, s'y/m = 8.7267e-20\n",
      "|Ax + s - b|_2 / (1 + |b|_2) = 6.9690e-04\n",
      "|A'y + c|_2 / (1 + |c|_2) = 9.7751e-04\n",
      "|c'x + b'y| / (1 + |c'x| + |b'y|) = 1.5362e-06\n",
      "----------------------------------------------------------------------------\n",
      "c'x = 236.7771, -b'y = 236.7764\n",
      "============================================================================\n",
      "---###---\n",
      "CPU times: user 9.81 s, sys: 134 ms, total: 9.95 s\n",
      "Wall time: 10.1 s\n"
     ]
    }
   ],
   "source": [
    "%%time\n",
    "data = work.data\n",
    "result = scs.solve(data, cone, warm_start=False)\n",
    "print('---###---')"
   ]
  },
  {
   "cell_type": "code",
   "execution_count": null,
   "metadata": {
    "collapsed": true
   },
   "outputs": [],
   "source": []
  }
 ],
 "metadata": {
  "kernelspec": {
   "display_name": "Python 2",
   "language": "python",
   "name": "python2"
  },
  "language_info": {
   "codemirror_mode": {
    "name": "ipython",
    "version": 2
   },
   "file_extension": ".py",
   "mimetype": "text/x-python",
   "name": "python",
   "nbconvert_exporter": "python",
   "pygments_lexer": "ipython2",
   "version": "2.7.10"
  }
 },
 "nbformat": 4,
 "nbformat_minor": 0
}
