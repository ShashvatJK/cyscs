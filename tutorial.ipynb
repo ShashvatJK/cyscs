{
 "cells": [
  {
   "cell_type": "markdown",
   "metadata": {},
   "source": [
    "# SCS Python Interface Tutorial\n",
    "\n",
    "This tutorial only covers the specifics of the SCS Python interface. For background on SCS and descriptions of the optimization problem being solved and the input data format, please see the [`SCS README`](https://github.com/cvxgrp/scs) or the [SCS Paper](http://web.stanford.edu/~boyd/papers/scs.html).\n",
    "\n",
    "This tutorial covers **most** (but not all) of the Python interface. For more details, see the [`SCS_Python README`](https://github.com/ajfriend/scs_python).\n",
    "\n",
    "# Basic SCS Interface"
   ]
  },
  {
   "cell_type": "code",
   "execution_count": 1,
   "metadata": {
    "collapsed": true
   },
   "outputs": [],
   "source": [
    "import scs"
   ]
  },
  {
   "cell_type": "markdown",
   "metadata": {},
   "source": [
    "We'll load data for an example $\\ell_1$ minimization problem. `data` and `cone` are correctly-formatted input for the SCS solver."
   ]
  },
  {
   "cell_type": "code",
   "execution_count": 2,
   "metadata": {
    "collapsed": false
   },
   "outputs": [
    {
     "name": "stdout",
     "output_type": "stream",
     "text": [
      "data:  {'A': <10000x8000 sparse matrix of type '<type 'numpy.float64'>'\n",
      "\twith 816000 stored elements in Compressed Sparse Column format>, 'c': array([ 0.,  0.,  0., ...,  1.,  1.,  1.]), 'b': array([-1.06370562,  1.2659559 ,  0.0602342 , ...,  0.        ,\n",
      "        0.        ,  0.        ])}\n",
      "cone:  {'l': 8000, 'f': 2000}\n"
     ]
    }
   ],
   "source": [
    "m = 2000\n",
    "data, cone = scs.examples.l1(m=m)\n",
    "print 'data: ', data\n",
    "print 'cone: ', cone"
   ]
  },
  {
   "cell_type": "markdown",
   "metadata": {},
   "source": [
    "- Use `scs.solve()` to compute a solution to the problem\n",
    "- `data` and `cone` are required arguments\n",
    "- Solver settings can be passed as keyword arguments\n",
    "- `result` is a dictionary with keys `'x'`, `'y'`, `'s'` (`numpy` arrays corresponding to problem variables), and `'info'` (a `dict` giving solver status information)"
   ]
  },
  {
   "cell_type": "code",
   "execution_count": 3,
   "metadata": {
    "collapsed": false
   },
   "outputs": [
    {
     "name": "stdout",
     "output_type": "stream",
     "text": [
      "---###---\n",
      "CPU times: user 9.87 s, sys: 159 ms, total: 10 s\n",
      "Wall time: 10.3 s\n"
     ]
    }
   ],
   "source": [
    "%%time\n",
    "result = scs.solve(data, cone, verbose=False)\n",
    "print('---###---')"
   ]
  },
  {
   "cell_type": "code",
   "execution_count": 4,
   "metadata": {
    "collapsed": false,
    "scrolled": true
   },
   "outputs": [
    {
     "name": "stdout",
     "output_type": "stream",
     "text": [
      "['y', 'x', 's', 'info']\n"
     ]
    },
    {
     "data": {
      "text/plain": [
       "{'dobj': 236.77520372459114,\n",
       " 'iter': 540,\n",
       " 'pobj': 236.775714014689,\n",
       " 'relGap': 1.075311581486246e-06,\n",
       " 'resDual': 0.0009946001367409107,\n",
       " 'resInfeas': 11.836049744716343,\n",
       " 'resPri': 0.0006893041237640758,\n",
       " 'resUnbdd': nan,\n",
       " 'setupTime': 4610.10807,\n",
       " 'solveTime': 5645.831647,\n",
       " 'status': u'Solved',\n",
       " 'statusVal': 1}"
      ]
     },
     "execution_count": 4,
     "metadata": {},
     "output_type": "execute_result"
    }
   ],
   "source": [
    "print result.keys()\n",
    "result['info']"
   ]
  },
  {
   "cell_type": "markdown",
   "metadata": {},
   "source": [
    "A **copy** of the SCS default solver settings can be seen by calling `scs.default_settings()`. Each of these settings can be modified for a call to `scs.solve()` by passing in keyword arguments."
   ]
  },
  {
   "cell_type": "code",
   "execution_count": 5,
   "metadata": {
    "collapsed": false
   },
   "outputs": [
    {
     "data": {
      "text/plain": [
       "{'alpha': 1.5,\n",
       " 'cg_rate': 2.0,\n",
       " 'eps': 0.001,\n",
       " 'max_iters': 2500,\n",
       " 'normalize': True,\n",
       " 'rho_x': 0.001,\n",
       " 'scale': 1.0,\n",
       " 'use_indirect': False,\n",
       " 'verbose': True,\n",
       " 'warm_start': False}"
      ]
     },
     "execution_count": 5,
     "metadata": {},
     "output_type": "execute_result"
    }
   ],
   "source": [
    "scs.default_settings()"
   ]
  },
  {
   "cell_type": "markdown",
   "metadata": {},
   "source": [
    "# Warm-Starting\n",
    "\n",
    "The solver can be warm-started with vectors `x`, `y`, and `s` (which are expected to be close to the solution). This can reduce the number of iterations needed to converge.\n",
    "\n",
    "Pass a dictionary with keys `'x'`, `'y'`, and `'s'` (pointing to `numpy` arrays of the appropriate size) to the `sol` keyword argument of `scs.solve()`, and set the option `warm_start=True`. Note that all three vectors are needed to warm-start.\n",
    "\n",
    "When `scs.solve()` is called without the `sol` argument, the function creates `numpy` arrays automatically and returns them in `result`.\n",
    "\n",
    "Below, we use the previous solution to warm-start the solver on the same problem, and see that this allows the solver to exit after 0 iterations."
   ]
  },
  {
   "cell_type": "code",
   "execution_count": 6,
   "metadata": {
    "collapsed": false,
    "scrolled": true
   },
   "outputs": [
    {
     "name": "stdout",
     "output_type": "stream",
     "text": [
      "----------------------------------------------------------------------------\n",
      "\tSCS v1.1.8 - Splitting Conic Solver\n",
      "\t(c) Brendan O'Donoghue, Stanford University, 2012-2015\n",
      "----------------------------------------------------------------------------\n",
      "Lin-sys: sparse-direct, nnz in A = 816000\n",
      "eps = 1.00e-03, alpha = 1.50, max_iters = 2500, normalize = 1, scale = 1.00\n",
      "Variables n = 8000, constraints m = 10000\n",
      "Cones:\tprimal zero / dual free vars: 2000\n",
      "\tlinear vars: 8000\n",
      "Setup time: 4.63e+00s\n",
      "SCS using variable warm-starting\n",
      "----------------------------------------------------------------------------\n",
      " Iter | pri res | dua res | rel gap | pri obj | dua obj | kap/tau | time (s)\n",
      "----------------------------------------------------------------------------\n",
      "     0| 6.86e-04  9.92e-04  1.03e-06  2.37e+02  2.37e+02  0.00e+00  3.31e-02 \n",
      "----------------------------------------------------------------------------\n",
      "Status: Solved\n",
      "Timing: Solve time: 3.34e-02s\n",
      "\tLin-sys: nnz in L factor: 2837000, avg solve time: 2.63e-02s\n",
      "\tCones: avg projection time: 3.80e-05s\n",
      "----------------------------------------------------------------------------\n",
      "Error metrics:\n",
      "dist(s, K) = 5.5713e-16, dist(y, K*) = 0.0000e+00, s'y/m = 5.2014e-20\n",
      "|Ax + s - b|_2 / (1 + |b|_2) = 6.8572e-04\n",
      "|A'y + c|_2 / (1 + |c|_2) = 9.9205e-04\n",
      "|c'x + b'y| / (1 + |c'x| + |b'y|) = 1.0261e-06\n",
      "----------------------------------------------------------------------------\n",
      "c'x = 236.7747, -b'y = 236.7742\n",
      "============================================================================\n",
      "---###---\n",
      "CPU times: user 4.47 s, sys: 100 ms, total: 4.57 s\n",
      "Wall time: 4.68 s\n"
     ]
    }
   ],
   "source": [
    "%%time\n",
    "sol = dict(x=result['x'],y=result['y'],s=result['s'])\n",
    "result = scs.solve(data, cone, sol=sol, verbose=True, warm_start=True)\n",
    "print('---###---')"
   ]
  },
  {
   "cell_type": "markdown",
   "metadata": {},
   "source": [
    "We can confirm the number of iterations by inspecting the `'info'` dictionary. Note that even though\n",
    "the solver needed 0 iterations to converge, it still had to perform a matrix factorization (since `use_indirect=False`), which took about 4 seconds."
   ]
  },
  {
   "cell_type": "code",
   "execution_count": 8,
   "metadata": {
    "collapsed": false,
    "scrolled": true
   },
   "outputs": [
    {
     "data": {
      "text/plain": [
       "{'dobj': 236.77420540751393,\n",
       " 'iter': 0,\n",
       " 'pobj': 236.77469235908313,\n",
       " 'relGap': 1.0261357080219337e-06,\n",
       " 'resDual': 0.0009920501135128545,\n",
       " 'resInfeas': 11.836119032312665,\n",
       " 'resPri': 0.0006857237060205455,\n",
       " 'resUnbdd': nan,\n",
       " 'setupTime': 4627.85207,\n",
       " 'solveTime': 33.368644,\n",
       " 'status': u'Solved',\n",
       " 'statusVal': 1}"
      ]
     },
     "execution_count": 8,
     "metadata": {},
     "output_type": "execute_result"
    }
   ],
   "source": [
    "result['info']"
   ]
  },
  {
   "cell_type": "markdown",
   "metadata": {},
   "source": [
    "# Factorization Caching Interface\n",
    "\n",
    "When using the direct method (`use_indirect=False`), we can cache the matrix factorization involving `A`, and reuse it across several solves. This is useful when solving a sequence or family of problems where `A` is fixed, but `b` and `c` may change.\n",
    "\n",
    "The `scs.Workspace` object caches the matrix factorization for us, and allows us to call the solver many times with different values for `b` and `c`. We can also optionally warm-start the solver, and change **some** of the solver settings between solves.\n",
    "\n",
    "Below, we initialize the `Workspace` object with the same data as above, and note that the setup time (factorization time) is still approximately 4 seconds. Note that the `Workspace` defaults to the direct (factorization) method because `use_indirect=False`, unless the user specifies otherwise."
   ]
  },
  {
   "cell_type": "code",
   "execution_count": 9,
   "metadata": {
    "collapsed": false
   },
   "outputs": [
    {
     "name": "stdout",
     "output_type": "stream",
     "text": [
      "----------------------------------------------------------------------------\n",
      "\tSCS v1.1.8 - Splitting Conic Solver\n",
      "\t(c) Brendan O'Donoghue, Stanford University, 2012-2015\n",
      "----------------------------------------------------------------------------\n",
      "Lin-sys: sparse-direct, nnz in A = 816000\n",
      "eps = 1.00e-03, alpha = 1.50, max_iters = 2500, normalize = 1, scale = 1.00\n",
      "Variables n = 8000, constraints m = 10000\n",
      "Cones:\tprimal zero / dual free vars: 2000\n",
      "\tlinear vars: 8000\n",
      "Setup time: 3.99e+00s\n",
      "---###---\n",
      "CPU times: user 3.9 s, sys: 52.7 ms, total: 3.95 s\n",
      "Wall time: 3.99 s\n"
     ]
    }
   ],
   "source": [
    "%%time\n",
    "work = scs.Workspace(data, cone)\n",
    "print('---###---')"
   ]
  },
  {
   "cell_type": "markdown",
   "metadata": {},
   "source": [
    "## `work.info`\n",
    "\n",
    "`work.info` will give a **copy** of the `info` dictionary, showing solver status information. Since only the setup has run, only the `setupTime` key is nonzero."
   ]
  },
  {
   "cell_type": "code",
   "execution_count": 10,
   "metadata": {
    "collapsed": false
   },
   "outputs": [
    {
     "data": {
      "text/plain": [
       "{'dobj': 0.0,\n",
       " 'iter': 0,\n",
       " 'pobj': 0.0,\n",
       " 'relGap': 0.0,\n",
       " 'resDual': 0.0,\n",
       " 'resInfeas': 0.0,\n",
       " 'resPri': 0.0,\n",
       " 'resUnbdd': 0.0,\n",
       " 'setupTime': 3985.002903,\n",
       " 'solveTime': 0.0,\n",
       " 'status': u'',\n",
       " 'statusVal': 0}"
      ]
     },
     "execution_count": 10,
     "metadata": {},
     "output_type": "execute_result"
    }
   ],
   "source": [
    "work.info"
   ]
  },
  {
   "cell_type": "markdown",
   "metadata": {},
   "source": [
    "## `work.settings`\n",
    "\n",
    "The `Workspace` object records changes to the user-specified settings. They can be inspected and modified through the\n",
    "`work.settings` dictionary. When the solver is run, it will operate based on the current `settings`.\n",
    "\n",
    "Some settings should not be changed once the `Workspace` object is initialized:\n",
    "- `use_indirect`\n",
    "- `normalize`\n",
    "- `scale`\n",
    "- `rho_x`\n",
    "\n",
    "Please do not modify these settings after the `Workspace` has been initialized. Changing them will give incorrect results, since the cached matrix factorization depends on them."
   ]
  },
  {
   "cell_type": "code",
   "execution_count": 11,
   "metadata": {
    "collapsed": false,
    "scrolled": true
   },
   "outputs": [
    {
     "data": {
      "text/plain": [
       "{'alpha': 1.5,\n",
       " 'cg_rate': 2.0,\n",
       " 'eps': 0.001,\n",
       " 'max_iters': 2500,\n",
       " 'normalize': True,\n",
       " 'rho_x': 0.001,\n",
       " 'scale': 1.0,\n",
       " 'use_indirect': False,\n",
       " 'verbose': True,\n",
       " 'warm_start': False}"
      ]
     },
     "execution_count": 11,
     "metadata": {},
     "output_type": "execute_result"
    }
   ],
   "source": [
    "work.settings"
   ]
  },
  {
   "cell_type": "markdown",
   "metadata": {},
   "source": [
    "## `work.fixed`\n",
    "\n",
    "The user can see a **copy** of the settings fixed at `Workspace` initialization time with the `work.fixed` attribute.\n",
    "The `Workspace` will raise an exception if these values are changed in `settings`."
   ]
  },
  {
   "cell_type": "code",
   "execution_count": 12,
   "metadata": {
    "collapsed": false
   },
   "outputs": [
    {
     "data": {
      "text/plain": [
       "{'normalize': True, 'rho_x': 0.001, 'scale': 1.0, 'use_indirect': False}"
      ]
     },
     "execution_count": 12,
     "metadata": {},
     "output_type": "execute_result"
    }
   ],
   "source": [
    "work.fixed"
   ]
  },
  {
   "cell_type": "markdown",
   "metadata": {},
   "source": [
    "## `work.data`\n",
    "\n",
    "The vectors `b` and `c` can be modified through the `work.data` dictionary. Please do not modify the matrix `A` after the `Workspace` has been initialized. Changing it will give incorrect results, since the cached matrix factorization depends on the original `A`."
   ]
  },
  {
   "cell_type": "code",
   "execution_count": 13,
   "metadata": {
    "collapsed": false
   },
   "outputs": [
    {
     "data": {
      "text/plain": [
       "{'A': <10000x8000 sparse matrix of type '<type 'numpy.float64'>'\n",
       " \twith 816000 stored elements in Compressed Sparse Column format>,\n",
       " 'b': array([-1.06370562,  1.2659559 ,  0.0602342 , ...,  0.        ,\n",
       "         0.        ,  0.        ]),\n",
       " 'c': array([ 0.,  0.,  0., ...,  1.,  1.,  1.])}"
      ]
     },
     "execution_count": 13,
     "metadata": {},
     "output_type": "execute_result"
    }
   ],
   "source": [
    "work.data"
   ]
  },
  {
   "cell_type": "markdown",
   "metadata": {},
   "source": [
    "## `work.sol`\n",
    "The solution vectors `x`, `y`, and `s` are stored in `work.sol`. These are the `numpy` arrays where the solution will be written. The user is free to modify this dictionary and/or the vectors themselves, but do ensure the sizes of the vectors remain unchanged.\n",
    "\n",
    "The user may change these vectors at any time to write the solution to a different location, or to input warm-starting vectors.\n",
    "\n",
    "By default, the `Workspace()` constructor will create empty `numpy` arrays to populate `work.sol`. The user can supply their own by passing a dictionary to the `sol` keyword argument of `Workspace()`."
   ]
  },
  {
   "cell_type": "code",
   "execution_count": 14,
   "metadata": {
    "collapsed": false
   },
   "outputs": [
    {
     "data": {
      "text/plain": [
       "{'s': array([ 0.,  0.,  0., ...,  0.,  0.,  0.]),\n",
       " 'x': array([ 0.,  0.,  0., ...,  0.,  0.,  0.]),\n",
       " 'y': array([ 0.,  0.,  0., ...,  0.,  0.,  0.])}"
      ]
     },
     "execution_count": 14,
     "metadata": {},
     "output_type": "execute_result"
    }
   ],
   "source": [
    "work.sol"
   ]
  },
  {
   "cell_type": "markdown",
   "metadata": {},
   "source": [
    "## `work.solve()`\n",
    "\n",
    "`work.solve()` will call the solver based on the current `settings`, `sol` (if `warm_start=True`), `data['b']` and `data['c']`.\n",
    "\n",
    "Calling the solver below, note that we skip the setup step, and go right to the iterative procedure."
   ]
  },
  {
   "cell_type": "code",
   "execution_count": 15,
   "metadata": {
    "collapsed": false
   },
   "outputs": [
    {
     "name": "stdout",
     "output_type": "stream",
     "text": [
      "----------------------------------------------------------------------------\n",
      " Iter | pri res | dua res | rel gap | pri obj | dua obj | kap/tau | time (s)\n",
      "----------------------------------------------------------------------------\n",
      "     0|      inf       inf       nan      -inf       inf       inf  3.57e-02 \n",
      "   100| 7.99e-03  1.05e-02  3.04e-05  2.37e+02  2.37e+02  1.13e-14  1.23e+00 \n",
      "   200| 3.13e-03  4.02e-03  7.04e-06  2.37e+02  2.37e+02  1.13e-14  2.32e+00 \n",
      "   300| 1.77e-03  2.30e-03  1.38e-06  2.37e+02  2.37e+02  1.13e-14  3.37e+00 \n",
      "   400| 1.11e-03  1.53e-03  2.07e-06  2.37e+02  2.37e+02  1.13e-14  4.44e+00 \n",
      "   500| 7.85e-04  1.09e-03  5.64e-07  2.37e+02  2.37e+02  1.13e-14  5.49e+00 \n",
      "   540| 6.89e-04  9.95e-04  1.08e-06  2.37e+02  2.37e+02  1.13e-14  5.92e+00 \n",
      "----------------------------------------------------------------------------\n",
      "Status: Solved\n",
      "Timing: Solve time: 5.92e+00s\n",
      "\tLin-sys: nnz in L factor: 2837000, avg solve time: 1.05e-02s\n",
      "\tCones: avg projection time: 3.48e-05s\n",
      "----------------------------------------------------------------------------\n",
      "Error metrics:\n",
      "dist(s, K) = 4.3170e-16, dist(y, K*) = 0.0000e+00, s'y/m = -4.7469e-20\n",
      "|Ax + s - b|_2 / (1 + |b|_2) = 6.8930e-04\n",
      "|A'y + c|_2 / (1 + |c|_2) = 9.9460e-04\n",
      "|c'x + b'y| / (1 + |c'x| + |b'y|) = 1.0753e-06\n",
      "----------------------------------------------------------------------------\n",
      "c'x = 236.7757, -b'y = 236.7752\n",
      "============================================================================\n",
      "---###---\n",
      "CPU times: user 5.84 s, sys: 33.6 ms, total: 5.87 s\n",
      "Wall time: 5.92 s\n"
     ]
    }
   ],
   "source": [
    "%%time\n",
    "result = work.solve()\n",
    "print('---###---')"
   ]
  },
  {
   "cell_type": "markdown",
   "metadata": {},
   "source": [
    "Note that the solution is stored in the `work` object in `work.sol`."
   ]
  },
  {
   "cell_type": "code",
   "execution_count": 16,
   "metadata": {
    "collapsed": false,
    "scrolled": true
   },
   "outputs": [
    {
     "data": {
      "text/plain": [
       "{'s': array([  5.71284582e-17,  -1.17107198e-16,   1.10606304e-16, ...,\n",
       "         -7.06831992e-18,   5.30123994e-18,   2.41232642e-01]),\n",
       " 'x': array([  7.10379611e-05,   2.99788766e-05,  -1.08941016e-05, ...,\n",
       "         -4.98375019e-08,  -4.98375019e-08,   1.20615895e-01]),\n",
       " 'y': array([ 0.19930045, -0.21738546,  0.24355537, ...,  0.89722381,\n",
       "         0.7904324 ,  0.        ])}"
      ]
     },
     "execution_count": 16,
     "metadata": {},
     "output_type": "execute_result"
    }
   ],
   "source": [
    "work.sol"
   ]
  },
  {
   "cell_type": "markdown",
   "metadata": {},
   "source": [
    "## Workspace `settings`\n",
    "\n",
    "By default, the `Workspace` will use the settings from `scs.default_settings()`. The user has a few opportunities to modify them:\n",
    "\n",
    "- at initialization time, by passing keyword arguments to `scs.Workspace()`\n",
    "- between solves, by modifying `work.settings` (but making sure **not** to modify the settings in `work.fixed`)\n",
    "- just before solve time, by passing keyword arguments to `work.solve()`\n",
    "\n",
    "Any changes to the `settings` persist in the `Workspace` object, including those passed to `scs.solve()`. For instance,\n",
    "\n",
    "```\n",
    "work.solve(eps=1e-5, alpha=1.1)\n",
    "```\n",
    "\n",
    "is exactly equivalent to\n",
    "\n",
    "```\n",
    "work.settings['eps'] = 1e-5\n",
    "work.settings['alpha'] = 1.1\n",
    "work.solve()\n",
    "```"
   ]
  },
  {
   "cell_type": "markdown",
   "metadata": {},
   "source": [
    "## Caching and warm-starting\n",
    "\n",
    "In addition to benefiting from the cached matrix factorization, we can also use a warm-started solution by calling\n",
    "`work.solve(warm_start=True)`. This will warm-start from the vectors in `work.sol`. Since we previously ran the solver and the solution is already contained in `work.sol`, this should require 0 iterations. It should also require 0 setup time, since we've cached the factorization."
   ]
  },
  {
   "cell_type": "code",
   "execution_count": 17,
   "metadata": {
    "collapsed": false
   },
   "outputs": [
    {
     "name": "stdout",
     "output_type": "stream",
     "text": [
      "SCS using variable warm-starting\n",
      "----------------------------------------------------------------------------\n",
      " Iter | pri res | dua res | rel gap | pri obj | dua obj | kap/tau | time (s)\n",
      "----------------------------------------------------------------------------\n",
      "     0| 6.86e-04  9.92e-04  1.03e-06  2.37e+02  2.37e+02  0.00e+00  3.39e-02 \n",
      "----------------------------------------------------------------------------\n",
      "Status: Solved\n",
      "Timing: Solve time: 3.41e-02s\n",
      "\tLin-sys: nnz in L factor: 2837000, avg solve time: 2.56e-02s\n",
      "\tCones: avg projection time: 9.24e-05s\n",
      "----------------------------------------------------------------------------\n",
      "Error metrics:\n",
      "dist(s, K) = 5.5713e-16, dist(y, K*) = 0.0000e+00, s'y/m = 5.2014e-20\n",
      "|Ax + s - b|_2 / (1 + |b|_2) = 6.8572e-04\n",
      "|A'y + c|_2 / (1 + |c|_2) = 9.9205e-04\n",
      "|c'x + b'y| / (1 + |c'x| + |b'y|) = 1.0261e-06\n",
      "----------------------------------------------------------------------------\n",
      "c'x = 236.7747, -b'y = 236.7742\n",
      "============================================================================\n",
      "---###---\n",
      "CPU times: user 34.7 ms, sys: 1.07 ms, total: 35.8 ms\n",
      "Wall time: 36.3 ms\n"
     ]
    }
   ],
   "source": [
    "%%time\n",
    "result = work.solve(warm_start=True)\n",
    "print('---###---')"
   ]
  },
  {
   "cell_type": "markdown",
   "metadata": {},
   "source": [
    "## Perturbed warm-starting\n",
    "\n",
    "For a more interesting example of warm-starting, we perturb the `b` vector a bit and try to re-solve.\n",
    "However, if we warm-start from the previous solution to the unperturbed problem, we can expect to only need a few iterations to \"correct\" for the perturbation and obtain the new solution."
   ]
  },
  {
   "cell_type": "code",
   "execution_count": 18,
   "metadata": {
    "collapsed": false
   },
   "outputs": [
    {
     "name": "stdout",
     "output_type": "stream",
     "text": [
      "SCS using variable warm-starting\n",
      "----------------------------------------------------------------------------\n",
      " Iter | pri res | dua res | rel gap | pri obj | dua obj | kap/tau | time (s)\n",
      "----------------------------------------------------------------------------\n",
      "     0| 7.63e-04  1.22e-03  3.53e-06  2.37e+02  2.37e+02  0.00e+00  3.45e-02 \n",
      "    20| 6.89e-04  9.90e-04  3.63e-06  2.37e+02  2.37e+02  3.02e-14  2.68e-01 \n",
      "----------------------------------------------------------------------------\n",
      "Status: Solved\n",
      "Timing: Solve time: 2.68e-01s\n",
      "\tLin-sys: nnz in L factor: 2837000, avg solve time: 1.20e-02s\n",
      "\tCones: avg projection time: 3.96e-05s\n",
      "----------------------------------------------------------------------------\n",
      "Error metrics:\n",
      "dist(s, K) = 5.4599e-16, dist(y, K*) = 0.0000e+00, s'y/m = -8.3117e-20\n",
      "|Ax + s - b|_2 / (1 + |b|_2) = 6.8888e-04\n",
      "|A'y + c|_2 / (1 + |c|_2) = 9.8963e-04\n",
      "|c'x + b'y| / (1 + |c'x| + |b'y|) = 3.6280e-06\n",
      "----------------------------------------------------------------------------\n",
      "c'x = 236.7755, -b'y = 236.7737\n",
      "============================================================================\n",
      "---###---\n",
      "CPU times: user 265 ms, sys: 3.07 ms, total: 268 ms\n",
      "Wall time: 270 ms\n"
     ]
    }
   ],
   "source": [
    "%%time\n",
    "# make a small perturbation to b\n",
    "work.data['b'][:m] += .01\n",
    "result = work.solve(warm_start=True)\n",
    "print('---###---')"
   ]
  },
  {
   "cell_type": "markdown",
   "metadata": {},
   "source": [
    "If we attempt to solve the problem without warm-starting, it will require many more iterations (and a longer solve time)."
   ]
  },
  {
   "cell_type": "code",
   "execution_count": 19,
   "metadata": {
    "collapsed": false
   },
   "outputs": [
    {
     "name": "stdout",
     "output_type": "stream",
     "text": [
      "----------------------------------------------------------------------------\n",
      " Iter | pri res | dua res | rel gap | pri obj | dua obj | kap/tau | time (s)\n",
      "----------------------------------------------------------------------------\n",
      "     0|      inf       inf       nan      -inf       inf       inf  3.41e-02 \n",
      "   100| 7.98e-03  1.05e-02  2.65e-05  2.37e+02  2.37e+02  2.26e-14  1.19e+00 \n",
      "   200| 3.13e-03  4.01e-03  9.53e-06  2.37e+02  2.37e+02  2.26e-14  2.24e+00 \n",
      "   300| 1.77e-03  2.30e-03  1.75e-06  2.37e+02  2.37e+02  2.26e-14  3.29e+00 \n",
      "   400| 1.11e-03  1.53e-03  1.21e-06  2.37e+02  2.37e+02  2.26e-14  4.34e+00 \n",
      "   500| 7.54e-04  1.12e-03  1.79e-07  2.37e+02  2.37e+02  2.26e-14  5.39e+00 \n",
      "   540| 6.97e-04  9.78e-04  1.54e-06  2.37e+02  2.37e+02  2.26e-14  5.82e+00 \n",
      "----------------------------------------------------------------------------\n",
      "Status: Solved\n",
      "Timing: Solve time: 5.82e+00s\n",
      "\tLin-sys: nnz in L factor: 2837000, avg solve time: 1.04e-02s\n",
      "\tCones: avg projection time: 3.40e-05s\n",
      "----------------------------------------------------------------------------\n",
      "Error metrics:\n",
      "dist(s, K) = 7.2117e-16, dist(y, K*) = 0.0000e+00, s'y/m = 8.7267e-20\n",
      "|Ax + s - b|_2 / (1 + |b|_2) = 6.9690e-04\n",
      "|A'y + c|_2 / (1 + |c|_2) = 9.7751e-04\n",
      "|c'x + b'y| / (1 + |c'x| + |b'y|) = 1.5362e-06\n",
      "----------------------------------------------------------------------------\n",
      "c'x = 236.7771, -b'y = 236.7764\n",
      "============================================================================\n",
      "---###---\n",
      "CPU times: user 5.76 s, sys: 29.9 ms, total: 5.79 s\n",
      "Wall time: 5.82 s\n"
     ]
    }
   ],
   "source": [
    "%%time\n",
    "result = work.solve(warm_start=False)\n",
    "print('---###---')"
   ]
  },
  {
   "cell_type": "markdown",
   "metadata": {},
   "source": [
    "If we revert even futher (back to the point where we started this tutorial) and try to solve **without** factorization caching or warm-starting, we can expect an even longer solve time."
   ]
  },
  {
   "cell_type": "code",
   "execution_count": 20,
   "metadata": {
    "collapsed": false
   },
   "outputs": [
    {
     "name": "stdout",
     "output_type": "stream",
     "text": [
      "----------------------------------------------------------------------------\n",
      "\tSCS v1.1.8 - Splitting Conic Solver\n",
      "\t(c) Brendan O'Donoghue, Stanford University, 2012-2015\n",
      "----------------------------------------------------------------------------\n",
      "Lin-sys: sparse-direct, nnz in A = 816000\n",
      "eps = 1.00e-03, alpha = 1.50, max_iters = 2500, normalize = 1, scale = 1.00\n",
      "Variables n = 8000, constraints m = 10000\n",
      "Cones:\tprimal zero / dual free vars: 2000\n",
      "\tlinear vars: 8000\n",
      "Setup time: 3.99e+00s\n",
      "----------------------------------------------------------------------------\n",
      " Iter | pri res | dua res | rel gap | pri obj | dua obj | kap/tau | time (s)\n",
      "----------------------------------------------------------------------------\n",
      "     0|      inf       inf       nan      -inf       inf       inf  3.47e-02 \n",
      "   100| 7.98e-03  1.05e-02  2.65e-05  2.37e+02  2.37e+02  2.26e-14  1.10e+00 \n",
      "   200| 3.13e-03  4.01e-03  9.53e-06  2.37e+02  2.37e+02  2.26e-14  2.57e+00 \n",
      "   300| 1.77e-03  2.30e-03  1.75e-06  2.37e+02  2.37e+02  2.26e-14  3.70e+00 \n",
      "   400| 1.11e-03  1.53e-03  1.21e-06  2.37e+02  2.37e+02  2.26e-14  4.98e+00 \n",
      "   500| 7.54e-04  1.12e-03  1.79e-07  2.37e+02  2.37e+02  2.26e-14  6.10e+00 \n",
      "   540| 6.97e-04  9.78e-04  1.54e-06  2.37e+02  2.37e+02  2.26e-14  6.76e+00 \n",
      "----------------------------------------------------------------------------\n",
      "Status: Solved\n",
      "Timing: Solve time: 6.76e+00s\n",
      "\tLin-sys: nnz in L factor: 2837000, avg solve time: 1.21e-02s\n",
      "\tCones: avg projection time: 3.74e-05s\n",
      "----------------------------------------------------------------------------\n",
      "Error metrics:\n",
      "dist(s, K) = 7.2117e-16, dist(y, K*) = 0.0000e+00, s'y/m = 8.7267e-20\n",
      "|Ax + s - b|_2 / (1 + |b|_2) = 6.9690e-04\n",
      "|A'y + c|_2 / (1 + |c|_2) = 9.7751e-04\n",
      "|c'x + b'y| / (1 + |c'x| + |b'y|) = 1.5362e-06\n",
      "----------------------------------------------------------------------------\n",
      "c'x = 236.7771, -b'y = 236.7764\n",
      "============================================================================\n",
      "---###---\n",
      "CPU times: user 10.3 s, sys: 148 ms, total: 10.5 s\n",
      "Wall time: 10.8 s\n"
     ]
    }
   ],
   "source": [
    "%%time\n",
    "data = work.data\n",
    "result = scs.solve(data, cone, warm_start=False)\n",
    "print('---###---')"
   ]
  },
  {
   "cell_type": "code",
   "execution_count": null,
   "metadata": {
    "collapsed": true
   },
   "outputs": [],
   "source": []
  }
 ],
 "metadata": {
  "kernelspec": {
   "display_name": "Python 2",
   "language": "python",
   "name": "python2"
  },
  "language_info": {
   "codemirror_mode": {
    "name": "ipython",
    "version": 2
   },
   "file_extension": ".py",
   "mimetype": "text/x-python",
   "name": "python",
   "nbconvert_exporter": "python",
   "pygments_lexer": "ipython2",
   "version": "2.7.10"
  }
 },
 "nbformat": 4,
 "nbformat_minor": 0
}
