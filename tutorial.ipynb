{
 "cells": [
  {
   "cell_type": "markdown",
   "metadata": {},
   "source": [
    "# SCS Python Interface Tutorial\n",
    "\n",
    "This tutorial only covers the specifics of the SCS Python interface. For background on SCS and descriptions of the optimization problem being solved and the input data format, please see the [`SCS README`](https://github.com/cvxgrp/scs) or the [SCS Paper](http://web.stanford.edu/~boyd/papers/scs.html).\n",
    "\n",
    "This tutorial covers **most** (but not all) of the Python interface. For more details, see the [`SCS_Python README`](https://github.com/ajfriend/scs_python).\n",
    "\n",
    "# Basic SCS Interface"
   ]
  },
  {
   "cell_type": "code",
   "execution_count": 1,
   "metadata": {
    "collapsed": false
   },
   "outputs": [],
   "source": [
    "from __future__ import print_function\n",
    "import scs"
   ]
  },
  {
   "cell_type": "markdown",
   "metadata": {},
   "source": [
    "We'll load data for an example $\\ell_1$ minimization problem. `data` and `cone` are correctly-formatted input for the SCS solver."
   ]
  },
  {
   "cell_type": "code",
   "execution_count": 2,
   "metadata": {
    "collapsed": false
   },
   "outputs": [
    {
     "name": "stdout",
     "output_type": "stream",
     "text": [
      "data:  {'A': <10000x8000 sparse matrix of type '<type 'numpy.float64'>'\n",
      "\twith 816000 stored elements in Compressed Sparse Column format>, 'c': array([ 0.,  0.,  0., ...,  1.,  1.,  1.]), 'b': array([-1.06370562,  1.2659559 ,  0.0602342 , ...,  0.        ,\n",
      "        0.        ,  0.        ])}\n",
      "cone:  {'l': 8000, 'f': 2000}\n"
     ]
    }
   ],
   "source": [
    "m = 2000\n",
    "data, cone = scs.examples.l1(m=m)\n",
    "print('data: ', data)\n",
    "print('cone: ', cone)"
   ]
  },
  {
   "cell_type": "markdown",
   "metadata": {},
   "source": [
    "- Use `scs.solve()` to compute a solution to the problem\n",
    "- `data` and `cone` are required arguments\n",
    "- Solver settings can be passed as keyword arguments\n",
    "- `sol` is a dictionary with keys `'x'`, `'y'`, `'s'` (`numpy` arrays corresponding to problem variables), and `'info'` (a `dict` giving solver status information)"
   ]
  },
  {
   "cell_type": "code",
   "execution_count": 3,
   "metadata": {
    "collapsed": false
   },
   "outputs": [
    {
     "name": "stdout",
     "output_type": "stream",
     "text": [
      "---###---\n",
      "CPU times: user 9.22 s, sys: 102 ms, total: 9.32 s\n",
      "Wall time: 9.33 s\n"
     ]
    }
   ],
   "source": [
    "%%time\n",
    "sol = scs.solve(data, cone, verbose=False)\n",
    "print('---###---')"
   ]
  },
  {
   "cell_type": "code",
   "execution_count": 4,
   "metadata": {
    "collapsed": false,
    "scrolled": true
   },
   "outputs": [
    {
     "name": "stdout",
     "output_type": "stream",
     "text": [
      "['y', 'x', 's', 'info']\n"
     ]
    },
    {
     "data": {
      "text/plain": [
       "{'dobj': 236.77576439435487,\n",
       " 'iter': 540,\n",
       " 'pobj': 236.77653707116332,\n",
       " 'relGap': 1.6282226554716905e-06,\n",
       " 'resDual': 0.000986217723616638,\n",
       " 'resInfeas': 11.836023568070756,\n",
       " 'resPri': 0.0006949464383811683,\n",
       " 'resUnbdd': nan,\n",
       " 'setupTime': 3949.537639,\n",
       " 'solveTime': 5369.40837,\n",
       " 'status': u'Solved',\n",
       " 'statusVal': 1}"
      ]
     },
     "execution_count": 4,
     "metadata": {},
     "output_type": "execute_result"
    }
   ],
   "source": [
    "print(sol.keys())\n",
    "sol['info']"
   ]
  },
  {
   "cell_type": "markdown",
   "metadata": {},
   "source": [
    "A **copy** of the SCS default solver settings can be seen by calling `scs.default_settings()`. Each of these settings can be modified for a call to `scs.solve()` by passing in keyword arguments."
   ]
  },
  {
   "cell_type": "code",
   "execution_count": 5,
   "metadata": {
    "collapsed": false
   },
   "outputs": [
    {
     "data": {
      "text/plain": [
       "{'alpha': 1.5,\n",
       " 'cg_rate': 2.0,\n",
       " 'eps': 0.001,\n",
       " 'max_iters': 2500,\n",
       " 'normalize': True,\n",
       " 'rho_x': 0.001,\n",
       " 'scale': 1.0,\n",
       " 'use_indirect': False,\n",
       " 'verbose': True}"
      ]
     },
     "execution_count": 5,
     "metadata": {},
     "output_type": "execute_result"
    }
   ],
   "source": [
    "scs.default_settings()"
   ]
  },
  {
   "cell_type": "markdown",
   "metadata": {},
   "source": [
    "# Warm-Starting\n",
    "\n",
    "The solver can be warm-started with vectors `x`, `y`, and `s` (which are expected to be close to the solution). This can reduce the number of iterations needed to converge.\n",
    "\n",
    "Pass a dictionary with keys `'x'`, `'y'`, and `'s'` (pointing to `numpy` arrays of the appropriate size) to the `warm_start` keyword argument of `scs.solve()`. Note that all three vectors are required for warm-starting.\n",
    "\n",
    "The `'x'`, `'y'`, and `'s'` arrays are **copied** so that they are not modified by SCS. The solution, `sol`, returned by `scs.solve()` contains **new** `numpy` arrays.\n",
    "\n",
    "Below, we use the previously-computed solution to warm-start the solver on the same problem, and see that this allows the solver to exit after 0 iterations."
   ]
  },
  {
   "cell_type": "code",
   "execution_count": 6,
   "metadata": {
    "collapsed": false,
    "scrolled": true
   },
   "outputs": [
    {
     "name": "stdout",
     "output_type": "stream",
     "text": [
      "----------------------------------------------------------------------------\n",
      "\tSCS v1.2.3 - Splitting Conic Solver\n",
      "\t(c) Brendan O'Donoghue, Stanford University, 2012-2016\n",
      "----------------------------------------------------------------------------\n",
      "Lin-sys: sparse-direct, nnz in A = 816000\n",
      "eps = 1.00e-03, alpha = 1.50, max_iters = 2500, normalize = 1, scale = 1.00\n",
      "Variables n = 8000, constraints m = 10000\n",
      "Cones:\tprimal zero / dual free vars: 2000\n",
      "\tlinear vars: 8000\n",
      "Setup time: 3.88e+00s\n",
      "SCS using variable warm-starting\n",
      "----------------------------------------------------------------------------\n",
      " Iter | pri res | dua res | rel gap | pri obj | dua obj | kap/tau | time (s)\n",
      "----------------------------------------------------------------------------\n",
      "     0| 6.91e-04  9.85e-04  1.65e-06  2.37e+02  2.37e+02  0.00e+00  2.50e-02 \n",
      "----------------------------------------------------------------------------\n",
      "Status: Solved\n",
      "Timing: Solve time: 2.52e-02s\n",
      "\tLin-sys: nnz in L factor: 2837000, avg solve time: 1.90e-02s\n",
      "\tCones: avg projection time: 3.24e-05s\n",
      "----------------------------------------------------------------------------\n",
      "Error metrics:\n",
      "dist(s, K) = 5.6957e-16, dist(y, K*) = 0.0000e+00, s'y/|s||y| = -3.8364e-18\n",
      "|Ax + s - b|_2 / (1 + |b|_2) = 6.9090e-04\n",
      "|A'y + c|_2 / (1 + |c|_2) = 9.8547e-04\n",
      "|c'x + b'y| / (1 + |c'x| + |b'y|) = 1.6513e-06\n",
      "----------------------------------------------------------------------------\n",
      "c'x = 236.7751, -b'y = 236.7744\n",
      "============================================================================\n",
      "---###---\n",
      "CPU times: user 3.86 s, sys: 47.1 ms, total: 3.91 s\n",
      "Wall time: 3.92 s\n"
     ]
    }
   ],
   "source": [
    "%%time\n",
    "sol = scs.solve(data, cone, warm_start=sol, verbose=True)\n",
    "print('---###---')"
   ]
  },
  {
   "cell_type": "markdown",
   "metadata": {},
   "source": [
    "We can confirm the number of iterations by inspecting the `'info'` dictionary. Note that even though\n",
    "the solver needed 0 iterations to converge, it still had to perform a matrix factorization (since `use_indirect=False`), which took about 4 seconds."
   ]
  },
  {
   "cell_type": "code",
   "execution_count": 7,
   "metadata": {
    "collapsed": false,
    "scrolled": true
   },
   "outputs": [
    {
     "data": {
      "text/plain": [
       "{'dobj': 236.77435833406983,\n",
       " 'iter': 0,\n",
       " 'pobj': 236.77514193941622,\n",
       " 'relGap': 1.6512615563459192e-06,\n",
       " 'resDual': 0.000985465476626838,\n",
       " 'resInfeas': 11.836107050503301,\n",
       " 'resPri': 0.0006909028315568697,\n",
       " 'resUnbdd': nan,\n",
       " 'setupTime': 3877.593222,\n",
       " 'solveTime': 25.177226,\n",
       " 'status': u'Solved',\n",
       " 'statusVal': 1}"
      ]
     },
     "execution_count": 7,
     "metadata": {},
     "output_type": "execute_result"
    }
   ],
   "source": [
    "sol['info']"
   ]
  },
  {
   "cell_type": "markdown",
   "metadata": {},
   "source": [
    "# Factorization Caching Interface\n",
    "\n",
    "When using the direct method (`use_indirect=False`), we can cache the matrix factorization involving `A`, and reuse it across several solves. This is useful when solving a sequence or family of problems where `A` is fixed, but `b` and `c` may change.\n",
    "\n",
    "The `scs.Workspace` object caches the matrix factorization for us, and allows us to call the solver many times with different values for `b` and `c`. We can also optionally warm-start the solver, and change **some** of the solver settings between solves.\n",
    "\n",
    "Below, we initialize the `Workspace` object with the same data as above, and note that the setup time (factorization time) is still approximately 4 seconds. Note that the `Workspace` defaults to the direct (factorization) method because `use_indirect=False`, unless the user specifies otherwise."
   ]
  },
  {
   "cell_type": "code",
   "execution_count": 8,
   "metadata": {
    "collapsed": false
   },
   "outputs": [
    {
     "name": "stdout",
     "output_type": "stream",
     "text": [
      "----------------------------------------------------------------------------\n",
      "\tSCS v1.2.3 - Splitting Conic Solver\n",
      "\t(c) Brendan O'Donoghue, Stanford University, 2012-2016\n",
      "----------------------------------------------------------------------------\n",
      "Lin-sys: sparse-direct, nnz in A = 816000\n",
      "eps = 1.00e-03, alpha = 1.50, max_iters = 2500, normalize = 1, scale = 1.00\n",
      "Variables n = 8000, constraints m = 10000\n",
      "Cones:\tprimal zero / dual free vars: 2000\n",
      "\tlinear vars: 8000\n",
      "Setup time: 4.33e+00s\n",
      "---###---\n",
      "CPU times: user 4.18 s, sys: 73.9 ms, total: 4.25 s\n",
      "Wall time: 4.33 s\n"
     ]
    }
   ],
   "source": [
    "%%time\n",
    "work = scs.Workspace(data, cone)\n",
    "print('---###---')"
   ]
  },
  {
   "cell_type": "markdown",
   "metadata": {},
   "source": [
    "## `work.info`\n",
    "\n",
    "`work.info` will give a **copy** of the `info` dictionary, showing solver status information. Since only the setup has run, only the `setupTime` key is nonzero."
   ]
  },
  {
   "cell_type": "code",
   "execution_count": 9,
   "metadata": {
    "collapsed": false
   },
   "outputs": [
    {
     "data": {
      "text/plain": [
       "{'dobj': 0.0,\n",
       " 'iter': 0,\n",
       " 'pobj': 0.0,\n",
       " 'relGap': 0.0,\n",
       " 'resDual': 0.0,\n",
       " 'resInfeas': 0.0,\n",
       " 'resPri': 0.0,\n",
       " 'resUnbdd': 0.0,\n",
       " 'setupTime': 4329.3424,\n",
       " 'solveTime': 0.0,\n",
       " 'status': u'',\n",
       " 'statusVal': 0}"
      ]
     },
     "execution_count": 9,
     "metadata": {},
     "output_type": "execute_result"
    }
   ],
   "source": [
    "work.info"
   ]
  },
  {
   "cell_type": "markdown",
   "metadata": {},
   "source": [
    "## `work.settings`\n",
    "\n",
    "The `Workspace` object records changes to the user-specified settings. They can be inspected and modified through the\n",
    "`work.settings` dictionary. When the solver is run, it will operate based on the current `settings`.\n",
    "\n",
    "Some settings should not be changed once the `Workspace` object is initialized, since the cached matrix factorization depends on them:\n",
    "- `use_indirect`\n",
    "- `normalize`\n",
    "- `scale`\n",
    "- `rho_x`\n",
    "\n",
    "SCS will raise an exception when calling `work.solve()` if these have been changed."
   ]
  },
  {
   "cell_type": "code",
   "execution_count": 10,
   "metadata": {
    "collapsed": false,
    "scrolled": true
   },
   "outputs": [
    {
     "data": {
      "text/plain": [
       "{'alpha': 1.5,\n",
       " 'cg_rate': 2.0,\n",
       " 'eps': 0.001,\n",
       " 'max_iters': 2500,\n",
       " 'normalize': True,\n",
       " 'rho_x': 0.001,\n",
       " 'scale': 1.0,\n",
       " 'use_indirect': False,\n",
       " 'verbose': True}"
      ]
     },
     "execution_count": 10,
     "metadata": {},
     "output_type": "execute_result"
    }
   ],
   "source": [
    "work.settings"
   ]
  },
  {
   "cell_type": "markdown",
   "metadata": {},
   "source": [
    "## `work.fixed`\n",
    "\n",
    "The user can see a **copy** of the settings fixed at `Workspace` initialization time with the `work.fixed` attribute.\n",
    "The `Workspace` will raise an exception if these values are changed in `settings`."
   ]
  },
  {
   "cell_type": "code",
   "execution_count": 11,
   "metadata": {
    "collapsed": false
   },
   "outputs": [
    {
     "data": {
      "text/plain": [
       "{'normalize': True, 'rho_x': 0.001, 'scale': 1.0, 'use_indirect': False}"
      ]
     },
     "execution_count": 11,
     "metadata": {},
     "output_type": "execute_result"
    }
   ],
   "source": [
    "work.fixed"
   ]
  },
  {
   "cell_type": "markdown",
   "metadata": {},
   "source": [
    "## `work.data`\n",
    "\n",
    "The vectors `b` and `c` can be modified through the `work.data` dictionary between solves. `work.data` is a shallow copy of the `data` dictionary passed to the `Workspace()` constructor, so changes to `work.data` will not affect the original dictionary. However, both dictionaries initially point to the **same** `b` and `c` numpy arrays.\n",
    "\n",
    "Since the cached matrix factorization depends on the original `A`, and this matrix cannot be modified without invalidating the factorization,\n",
    "`work.data` does not expose the internally copied matrix `A`. Since a copy of `A` is formed and stored in the `work` object, the original `A` matrix can be modified without affecting `work`."
   ]
  },
  {
   "cell_type": "code",
   "execution_count": 12,
   "metadata": {
    "collapsed": false
   },
   "outputs": [
    {
     "data": {
      "text/plain": [
       "{'b': array([-1.06370562,  1.2659559 ,  0.0602342 , ...,  0.        ,\n",
       "         0.        ,  0.        ]),\n",
       " 'c': array([ 0.,  0.,  0., ...,  1.,  1.,  1.])}"
      ]
     },
     "execution_count": 12,
     "metadata": {},
     "output_type": "execute_result"
    }
   ],
   "source": [
    "work.data"
   ]
  },
  {
   "cell_type": "markdown",
   "metadata": {},
   "source": [
    "## `work.solve()`\n",
    "\n",
    "`work.solve()` will call the solver based on the initial factorizatoin, current `settings`, (optional) warm-start vectors, `data['b']` and `data['c']`.\n",
    "\n",
    "Calling the solver below, note that we skip the setup step, and go right to the iterative procedure."
   ]
  },
  {
   "cell_type": "code",
   "execution_count": 13,
   "metadata": {
    "collapsed": false
   },
   "outputs": [
    {
     "name": "stdout",
     "output_type": "stream",
     "text": [
      "SCS using variable warm-starting\n",
      "----------------------------------------------------------------------------\n",
      " Iter | pri res | dua res | rel gap | pri obj | dua obj | kap/tau | time (s)\n",
      "----------------------------------------------------------------------------\n",
      "     0| 7.71e-01  3.77e+00  9.99e-01 -6.95e+02  7.56e+02  0.00e+00  3.27e-02 \n",
      "   100| 8.01e-03  1.05e-02  3.24e-05  2.37e+02  2.37e+02  1.14e-14  1.13e+00 \n",
      "   200| 3.13e-03  4.04e-03  9.09e-06  2.37e+02  2.37e+02  1.14e-14  2.13e+00 \n",
      "   300| 1.76e-03  2.31e-03  2.85e-06  2.37e+02  2.37e+02  1.14e-14  3.11e+00 \n",
      "   400| 1.12e-03  1.52e-03  2.79e-06  2.37e+02  2.37e+02  1.14e-14  4.10e+00 \n",
      "   500| 7.84e-04  1.09e-03  2.96e-07  2.37e+02  2.37e+02  3.43e-14  5.11e+00 \n",
      "   540| 6.95e-04  9.86e-04  1.63e-06  2.37e+02  2.37e+02  1.14e-14  5.48e+00 \n",
      "----------------------------------------------------------------------------\n",
      "Status: Solved\n",
      "Timing: Solve time: 5.48e+00s\n",
      "\tLin-sys: nnz in L factor: 2837000, avg solve time: 9.77e-03s\n",
      "\tCones: avg projection time: 3.12e-05s\n",
      "----------------------------------------------------------------------------\n",
      "Error metrics:\n",
      "dist(s, K) = 4.2758e-16, dist(y, K*) = 0.0000e+00, s'y/|s||y| = -2.1886e-18\n",
      "|Ax + s - b|_2 / (1 + |b|_2) = 6.9495e-04\n",
      "|A'y + c|_2 / (1 + |c|_2) = 9.8622e-04\n",
      "|c'x + b'y| / (1 + |c'x| + |b'y|) = 1.6282e-06\n",
      "----------------------------------------------------------------------------\n",
      "c'x = 236.7765, -b'y = 236.7758\n",
      "============================================================================\n",
      "---###---\n",
      "CPU times: user 5.45 s, sys: 21.1 ms, total: 5.47 s\n",
      "Wall time: 5.49 s\n"
     ]
    }
   ],
   "source": [
    "%%time\n",
    "sol = work.solve()\n",
    "print('---###---')"
   ]
  },
  {
   "cell_type": "markdown",
   "metadata": {},
   "source": [
    "The solution is returned as a dictionary, just as with `scs.solve()`."
   ]
  },
  {
   "cell_type": "code",
   "execution_count": 14,
   "metadata": {
    "collapsed": false,
    "scrolled": true
   },
   "outputs": [
    {
     "data": {
      "text/plain": [
       "{'info': {'dobj': 236.77576439435487,\n",
       "  'iter': 540,\n",
       "  'pobj': 236.77653707116332,\n",
       "  'relGap': 1.6282226554716905e-06,\n",
       "  'resDual': 0.000986217723616638,\n",
       "  'resInfeas': 11.836023568070756,\n",
       "  'resPri': 0.0006949464383811683,\n",
       "  'resUnbdd': nan,\n",
       "  'setupTime': 4329.3424,\n",
       "  'solveTime': 5482.592178,\n",
       "  'status': u'Solved',\n",
       "  'statusVal': 1},\n",
       " 's': array([  5.76894725e-17,  -1.18257217e-16,   1.11692482e-16, ...,\n",
       "         -7.13773240e-18,   1.07065986e-17,   2.41523846e-01]),\n",
       " 'x': array([  6.95955084e-05,   3.37737847e-05,  -4.60801796e-06, ...,\n",
       "         -8.98092290e-08,  -8.98092290e-08,   1.20765750e-01]),\n",
       " 'y': array([ 0.19976614, -0.21751859,  0.24312801, ...,  0.89716835,\n",
       "         0.78925212,  0.        ])}"
      ]
     },
     "execution_count": 14,
     "metadata": {},
     "output_type": "execute_result"
    }
   ],
   "source": [
    "sol"
   ]
  },
  {
   "cell_type": "markdown",
   "metadata": {},
   "source": [
    "## Workspace `settings`\n",
    "\n",
    "By default, the `Workspace` will use the settings from `scs.default_settings()`. The user has a few opportunities to modify them:\n",
    "\n",
    "- at initialization time, by passing keyword arguments to `scs.Workspace()`\n",
    "- between solves, by modifying `work.settings` (but making sure **not** to modify the settings in `work.fixed`)\n",
    "- just before solve time, by passing keyword arguments to `work.solve()`\n",
    "\n",
    "Any changes to the `settings` persist in the `Workspace` object, including those passed to `scs.solve()`. For instance,\n",
    "\n",
    "```\n",
    "work.solve(eps=1e-5, alpha=1.1)\n",
    "```\n",
    "\n",
    "is exactly equivalent to\n",
    "\n",
    "```\n",
    "work.settings['eps'] = 1e-5\n",
    "work.settings['alpha'] = 1.1\n",
    "work.solve()\n",
    "```"
   ]
  },
  {
   "cell_type": "markdown",
   "metadata": {},
   "source": [
    "## Caching and warm-starting\n",
    "\n",
    "In addition to benefiting from the cached matrix factorization, we can also use a warm-started solution by calling\n",
    "`work.solve(warm_start=ws)`. This will warm-start from the vectors in `ws`. Since we previously ran the solver and the solution is already contained in `sol`, the following call should require 0 iterations. It should also require 0 setup time, since we've cached the factorization."
   ]
  },
  {
   "cell_type": "code",
   "execution_count": 15,
   "metadata": {
    "collapsed": false
   },
   "outputs": [
    {
     "name": "stdout",
     "output_type": "stream",
     "text": [
      "SCS using variable warm-starting\n",
      "----------------------------------------------------------------------------\n",
      " Iter | pri res | dua res | rel gap | pri obj | dua obj | kap/tau | time (s)\n",
      "----------------------------------------------------------------------------\n",
      "     0| 6.91e-04  9.85e-04  1.65e-06  2.37e+02  2.37e+02  0.00e+00  3.68e-02 \n",
      "----------------------------------------------------------------------------\n",
      "Status: Solved\n",
      "Timing: Solve time: 3.70e-02s\n",
      "\tLin-sys: nnz in L factor: 2837000, avg solve time: 3.01e-02s\n",
      "\tCones: avg projection time: 9.92e-05s\n",
      "----------------------------------------------------------------------------\n",
      "Error metrics:\n",
      "dist(s, K) = 5.6957e-16, dist(y, K*) = 0.0000e+00, s'y/|s||y| = -3.8364e-18\n",
      "|Ax + s - b|_2 / (1 + |b|_2) = 6.9090e-04\n",
      "|A'y + c|_2 / (1 + |c|_2) = 9.8547e-04\n",
      "|c'x + b'y| / (1 + |c'x| + |b'y|) = 1.6513e-06\n",
      "----------------------------------------------------------------------------\n",
      "c'x = 236.7751, -b'y = 236.7744\n",
      "============================================================================\n",
      "---###---\n",
      "CPU times: user 37.8 ms, sys: 2.64 ms, total: 40.4 ms\n",
      "Wall time: 41.1 ms\n"
     ]
    }
   ],
   "source": [
    "%%time\n",
    "sol = work.solve(warm_start=sol)\n",
    "print('---###---')"
   ]
  },
  {
   "cell_type": "markdown",
   "metadata": {},
   "source": [
    "## Perturbed warm-starting\n",
    "\n",
    "For a more interesting example of warm-starting, we perturb the `b` vector a bit and try to re-solve.\n",
    "However, if we warm-start from the previous solution to the unperturbed problem, we can expect to only need a few iterations to \"correct\" for the perturbation and obtain the new solution."
   ]
  },
  {
   "cell_type": "code",
   "execution_count": 16,
   "metadata": {
    "collapsed": false
   },
   "outputs": [
    {
     "name": "stdout",
     "output_type": "stream",
     "text": [
      "SCS using variable warm-starting\n",
      "----------------------------------------------------------------------------\n",
      " Iter | pri res | dua res | rel gap | pri obj | dua obj | kap/tau | time (s)\n",
      "----------------------------------------------------------------------------\n",
      "     0| 7.68e-04  1.22e-03  3.29e-06  2.37e+02  2.37e+02  0.00e+00  3.47e-02 \n",
      "    20| 6.94e-04  9.88e-04  4.63e-06  2.37e+02  2.37e+02  3.02e-14  2.76e-01 \n",
      "----------------------------------------------------------------------------\n",
      "Status: Solved\n",
      "Timing: Solve time: 2.76e-01s\n",
      "\tLin-sys: nnz in L factor: 2837000, avg solve time: 1.24e-02s\n",
      "\tCones: avg projection time: 3.76e-05s\n",
      "----------------------------------------------------------------------------\n",
      "Error metrics:\n",
      "dist(s, K) = 5.5911e-16, dist(y, K*) = 0.0000e+00, s'y/|s||y| = 1.3401e-18\n",
      "|Ax + s - b|_2 / (1 + |b|_2) = 6.9441e-04\n",
      "|A'y + c|_2 / (1 + |c|_2) = 9.8762e-04\n",
      "|c'x + b'y| / (1 + |c'x| + |b'y|) = 4.6340e-06\n",
      "----------------------------------------------------------------------------\n",
      "c'x = 236.7743, -b'y = 236.7721\n",
      "============================================================================\n",
      "---###---\n",
      "CPU times: user 273 ms, sys: 3.67 ms, total: 277 ms\n",
      "Wall time: 279 ms\n"
     ]
    }
   ],
   "source": [
    "%%time\n",
    "# make a small perturbation to b\n",
    "work.data['b'][:m] += .01\n",
    "sol = work.solve(warm_start=sol)\n",
    "print('---###---')"
   ]
  },
  {
   "cell_type": "markdown",
   "metadata": {},
   "source": [
    "If we attempt to solve the problem without warm-starting, it will require many more iterations (and a longer solve time)."
   ]
  },
  {
   "cell_type": "code",
   "execution_count": 17,
   "metadata": {
    "collapsed": false
   },
   "outputs": [
    {
     "name": "stdout",
     "output_type": "stream",
     "text": [
      "SCS using variable warm-starting\n",
      "----------------------------------------------------------------------------\n",
      " Iter | pri res | dua res | rel gap | pri obj | dua obj | kap/tau | time (s)\n",
      "----------------------------------------------------------------------------\n",
      "     0| 7.73e-01  3.76e+00  9.99e-01 -6.95e+02  7.55e+02  0.00e+00  3.45e-02 \n",
      "   100| 8.01e-03  1.05e-02  3.01e-05  2.37e+02  2.37e+02  2.28e-14  1.12e+00 \n",
      "   200| 3.14e-03  4.03e-03  1.20e-05  2.37e+02  2.37e+02  2.28e-14  2.18e+00 \n",
      "   300| 1.77e-03  2.30e-03  2.63e-06  2.37e+02  2.37e+02  2.29e-14  3.20e+00 \n",
      "   400| 1.12e-03  1.52e-03  1.37e-06  2.37e+02  2.37e+02  2.29e-14  4.24e+00 \n",
      "   500| 7.52e-04  1.12e-03  6.14e-07  2.37e+02  2.37e+02  2.29e-14  5.32e+00 \n",
      "   540| 7.01e-04  9.66e-04  1.45e-06  2.37e+02  2.37e+02  2.29e-14  5.75e+00 \n",
      "----------------------------------------------------------------------------\n",
      "Status: Solved\n",
      "Timing: Solve time: 5.75e+00s\n",
      "\tLin-sys: nnz in L factor: 2837000, avg solve time: 1.02e-02s\n",
      "\tCones: avg projection time: 3.23e-05s\n",
      "----------------------------------------------------------------------------\n",
      "Error metrics:\n",
      "dist(s, K) = 7.1686e-16, dist(y, K*) = 0.0000e+00, s'y/|s||y| = -4.2676e-19\n",
      "|Ax + s - b|_2 / (1 + |b|_2) = 7.0129e-04\n",
      "|A'y + c|_2 / (1 + |c|_2) = 9.6643e-04\n",
      "|c'x + b'y| / (1 + |c'x| + |b'y|) = 1.4495e-06\n",
      "----------------------------------------------------------------------------\n",
      "c'x = 236.7755, -b'y = 236.7748\n",
      "============================================================================\n",
      "---###---\n",
      "CPU times: user 5.71 s, sys: 24.9 ms, total: 5.73 s\n",
      "Wall time: 5.75 s\n"
     ]
    }
   ],
   "source": [
    "%%time\n",
    "sol = work.solve()\n",
    "print('---###---')"
   ]
  },
  {
   "cell_type": "markdown",
   "metadata": {},
   "source": [
    "If we revert even futher (back to the point where we started this tutorial) and try to solve **without** factorization caching or warm-starting, we can expect an even longer solve time."
   ]
  },
  {
   "cell_type": "code",
   "execution_count": 18,
   "metadata": {
    "collapsed": false
   },
   "outputs": [
    {
     "name": "stdout",
     "output_type": "stream",
     "text": [
      "----------------------------------------------------------------------------\n",
      "\tSCS v1.2.3 - Splitting Conic Solver\n",
      "\t(c) Brendan O'Donoghue, Stanford University, 2012-2016\n",
      "----------------------------------------------------------------------------\n",
      "Lin-sys: sparse-direct, nnz in A = 816000\n",
      "eps = 1.00e-03, alpha = 1.50, max_iters = 2500, normalize = 1, scale = 1.00\n",
      "Variables n = 8000, constraints m = 10000\n",
      "Cones:\tprimal zero / dual free vars: 2000\n",
      "\tlinear vars: 8000\n",
      "Setup time: 4.04e+00s\n",
      "SCS using variable warm-starting\n",
      "----------------------------------------------------------------------------\n",
      " Iter | pri res | dua res | rel gap | pri obj | dua obj | kap/tau | time (s)\n",
      "----------------------------------------------------------------------------\n",
      "     0| 7.73e-01  3.76e+00  9.99e-01 -6.95e+02  7.55e+02  0.00e+00  2.78e-02 \n",
      "   100| 8.01e-03  1.05e-02  3.01e-05  2.37e+02  2.37e+02  2.28e-14  1.04e+00 \n",
      "   200| 3.14e-03  4.03e-03  1.20e-05  2.37e+02  2.37e+02  2.28e-14  2.02e+00 \n",
      "   300| 1.77e-03  2.30e-03  2.63e-06  2.37e+02  2.37e+02  2.29e-14  3.08e+00 \n",
      "   400| 1.12e-03  1.52e-03  1.37e-06  2.37e+02  2.37e+02  2.29e-14  4.15e+00 \n",
      "   500| 7.52e-04  1.12e-03  6.14e-07  2.37e+02  2.37e+02  2.29e-14  5.88e+00 \n",
      "   540| 7.01e-04  9.66e-04  1.45e-06  2.37e+02  2.37e+02  2.29e-14  6.45e+00 \n",
      "----------------------------------------------------------------------------\n",
      "Status: Solved\n",
      "Timing: Solve time: 6.45e+00s\n",
      "\tLin-sys: nnz in L factor: 2837000, avg solve time: 1.15e-02s\n",
      "\tCones: avg projection time: 3.59e-05s\n",
      "----------------------------------------------------------------------------\n",
      "Error metrics:\n",
      "dist(s, K) = 7.1686e-16, dist(y, K*) = 0.0000e+00, s'y/|s||y| = -4.2676e-19\n",
      "|Ax + s - b|_2 / (1 + |b|_2) = 7.0129e-04\n",
      "|A'y + c|_2 / (1 + |c|_2) = 9.6643e-04\n",
      "|c'x + b'y| / (1 + |c'x| + |b'y|) = 1.4495e-06\n",
      "----------------------------------------------------------------------------\n",
      "c'x = 236.7755, -b'y = 236.7748\n",
      "============================================================================\n",
      "---###---\n",
      "CPU times: user 10.1 s, sys: 162 ms, total: 10.2 s\n",
      "Wall time: 10.5 s\n"
     ]
    }
   ],
   "source": [
    "%%time\n",
    "data['b'] = work.data['b']\n",
    "sol = scs.solve(data, cone)\n",
    "print('---###---')"
   ]
  },
  {
   "cell_type": "code",
   "execution_count": null,
   "metadata": {
    "collapsed": true
   },
   "outputs": [],
   "source": []
  }
 ],
 "metadata": {
  "kernelspec": {
   "display_name": "Python 2",
   "language": "python",
   "name": "python2"
  },
  "language_info": {
   "codemirror_mode": {
    "name": "ipython",
    "version": 2
   },
   "file_extension": ".py",
   "mimetype": "text/x-python",
   "name": "python",
   "nbconvert_exporter": "python",
   "pygments_lexer": "ipython2",
   "version": "2.7.10"
  }
 },
 "nbformat": 4,
 "nbformat_minor": 0
}
