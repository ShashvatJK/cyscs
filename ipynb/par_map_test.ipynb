{
 "cells": [
  {
   "cell_type": "markdown",
   "metadata": {},
   "source": [
    "- threadpool `map` takes one task at a time, assigning it to whatever thread is free.\n",
    "- tasks are not assigned ahead of time\n",
    "- assigment depends on how long each task takes to run"
   ]
  },
  {
   "cell_type": "code",
   "execution_count": 11,
   "metadata": {
    "collapsed": true
   },
   "outputs": [],
   "source": [
    "from concurrent import futures\n",
    "import time\n",
    "import sys\n",
    "import threading\n",
    "import toolz\n",
    "from datetime import datetime\n",
    "\n",
    "def diagnostic_map(mapper, fn, data):\n",
    "    def wrapper(x):\n",
    "        thread = threading.get_ident()\n",
    "        start = str(datetime.now().time())\n",
    "        start2 = time.time()\n",
    "        result = fn(x)\n",
    "        end = str(datetime.now().time())\n",
    "        total_time = time.time() - start2\n",
    "        \n",
    "        d = dict(result=result, thread=thread, start=start, end=end, total_time=total_time)\n",
    "        \n",
    "        return d\n",
    "    \n",
    "    start = time.time()\n",
    "    out = list(mapper(wrapper, data))\n",
    "    total_time = time.time() - start\n",
    "    \n",
    "    result = [d['result'] for d in out]\n",
    "\n",
    "    for d in out:\n",
    "        del d['result']\n",
    "    diag = dict(total_time=total_time, tasks=out)\n",
    "    \n",
    "    return result, diag\n",
    "\n",
    "def thread_info(diag):\n",
    "    print('Total time: {}'.format(diag['total_time']))\n",
    "    tasks = diag['tasks']\n",
    "    for i,d in enumerate(tasks):\n",
    "        d['index'] = i\n",
    "        \n",
    "    d = toolz.groupby(lambda x: x['thread'], tasks)\n",
    "    \n",
    "    for thread in d:\n",
    "        print('### Thread: ', thread)\n",
    "        tasks = d[thread]\n",
    "\n",
    "        for task in tasks:\n",
    "            print('Index: {}'.format(task['index']))\n",
    "            print('Time: {}--{}'.format(task['start'], task['end']))\n",
    "            print('Total time: {}'.format(task['total_time']))\n",
    "            print('')"
   ]
  },
  {
   "cell_type": "code",
   "execution_count": 8,
   "metadata": {
    "collapsed": true
   },
   "outputs": [],
   "source": [
    "in_tasks = [1, 10, 2,3,4,5]"
   ]
  },
  {
   "cell_type": "code",
   "execution_count": 9,
   "metadata": {
    "collapsed": false
   },
   "outputs": [
    {
     "name": "stdout",
     "output_type": "stream",
     "text": [
      "### Thread:  140735190237184\n",
      "Index: 0\n",
      "Time: 15:09:49.694203--15:09:50.694417\n",
      "Total time: 1.0002198219299316\n",
      "\n",
      "Index: 1\n",
      "Time: 15:09:50.694472--15:10:00.695154\n",
      "Total time: 10.000715017318726\n",
      "\n",
      "Index: 2\n",
      "Time: 15:10:00.695219--15:10:02.698314\n",
      "Total time: 2.0031449794769287\n",
      "\n",
      "Index: 3\n",
      "Time: 15:10:02.698402--15:10:05.703637\n",
      "Total time: 3.0052950382232666\n",
      "\n",
      "Index: 4\n",
      "Time: 15:10:05.703752--15:10:09.709083\n",
      "Total time: 4.005376100540161\n",
      "\n",
      "Index: 5\n",
      "Time: 15:10:09.709193--15:10:14.710507\n",
      "Total time: 5.001398086547852\n",
      "\n"
     ]
    }
   ],
   "source": [
    "result, diag = diagnostic_map(map, time.sleep, in_tasks)\n",
    "thread_info(diag)"
   ]
  },
  {
   "cell_type": "code",
   "execution_count": 13,
   "metadata": {
    "collapsed": false
   },
   "outputs": [
    {
     "name": "stdout",
     "output_type": "stream",
     "text": [
      "CPU times: user 4.64 ms, sys: 3.34 ms, total: 7.97 ms\n",
      "Wall time: 10 s\n"
     ]
    }
   ],
   "source": [
    "%%time\n",
    "with futures.ThreadPoolExecutor(6) as ex: \n",
    "    result, diag = diagnostic_map(ex.map, time.sleep, in_tasks)"
   ]
  },
  {
   "cell_type": "code",
   "execution_count": 14,
   "metadata": {
    "collapsed": false
   },
   "outputs": [
    {
     "name": "stdout",
     "output_type": "stream",
     "text": [
      "Total time: 10.004420042037964\n",
      "### Thread:  123145325469696\n",
      "Index: 0\n",
      "Time: 15:13:14.654960--15:13:15.659452\n",
      "Total time: 1.0045280456542969\n",
      "\n",
      "### Thread:  123145330724864\n",
      "Index: 1\n",
      "Time: 15:13:14.656013--15:13:24.658673\n",
      "Total time: 10.002716064453125\n",
      "\n",
      "### Thread:  123145351745536\n",
      "Index: 5\n",
      "Time: 15:13:14.656904--15:13:19.659410\n",
      "Total time: 5.002537965774536\n",
      "\n",
      "### Thread:  123145341235200\n",
      "Index: 3\n",
      "Time: 15:13:14.656561--15:13:17.661792\n",
      "Total time: 3.0052831172943115\n",
      "\n",
      "### Thread:  123145346490368\n",
      "Index: 4\n",
      "Time: 15:13:14.656745--15:13:18.662054\n",
      "Total time: 4.005357980728149\n",
      "\n",
      "### Thread:  123145335980032\n",
      "Index: 2\n",
      "Time: 15:13:14.656317--15:13:16.661559\n",
      "Total time: 2.005284070968628\n",
      "\n"
     ]
    }
   ],
   "source": [
    "thread_info(diag)"
   ]
  },
  {
   "cell_type": "code",
   "execution_count": 18,
   "metadata": {
    "collapsed": true
   },
   "outputs": [],
   "source": [
    "import scs\n",
    "num_problems = 20\n",
    "m = 1000 # size of L1 problem\n",
    "\n",
    "data = [scs.examples.l1(m, seed=i) for i in range(num_problems)]"
   ]
  },
  {
   "cell_type": "code",
   "execution_count": 19,
   "metadata": {
    "collapsed": true
   },
   "outputs": [],
   "source": [
    "def solve(x):\n",
    "    return scs.solve(*x, verbose=False)"
   ]
  },
  {
   "cell_type": "code",
   "execution_count": 28,
   "metadata": {
    "collapsed": false
   },
   "outputs": [
    {
     "name": "stdout",
     "output_type": "stream",
     "text": [
      "CPU times: user 48.7 s, sys: 303 ms, total: 49 s\n",
      "Wall time: 25.2 s\n"
     ]
    }
   ],
   "source": [
    "%%time\n",
    "workers = 2 # number of threads/processes\n",
    "with futures.ThreadPoolExecutor(workers) as ex: \n",
    "    result, diag = diagnostic_map(ex.map, solve, data)"
   ]
  },
  {
   "cell_type": "code",
   "execution_count": 30,
   "metadata": {
    "collapsed": false
   },
   "outputs": [
    {
     "name": "stdout",
     "output_type": "stream",
     "text": [
      "Total time: 25.186974048614502\n",
      "### Thread:  123145325469696\n",
      "Index: 0\n",
      "Time: 15:29:38.602435--15:29:41.325301\n",
      "Total time: 2.7228751182556152\n",
      "\n",
      "Index: 3\n",
      "Time: 15:29:41.325433--15:29:43.737189\n",
      "Total time: 2.411777973175049\n",
      "\n",
      "Index: 5\n",
      "Time: 15:29:43.737322--15:29:46.269704\n",
      "Total time: 2.5323970317840576\n",
      "\n",
      "Index: 7\n",
      "Time: 15:29:46.269817--15:29:48.668321\n",
      "Total time: 2.398531913757324\n",
      "\n",
      "Index: 9\n",
      "Time: 15:29:48.668455--15:29:51.360616\n",
      "Total time: 2.6921770572662354\n",
      "\n",
      "Index: 11\n",
      "Time: 15:29:51.360745--15:29:53.971491\n",
      "Total time: 2.610764980316162\n",
      "\n",
      "Index: 13\n",
      "Time: 15:29:53.971609--15:29:56.361483\n",
      "Total time: 2.3898909091949463\n",
      "\n",
      "Index: 15\n",
      "Time: 15:29:56.361594--15:29:58.965721\n",
      "Total time: 2.6041507720947266\n",
      "\n",
      "Index: 17\n",
      "Time: 15:29:58.965846--15:30:01.463124\n",
      "Total time: 2.497299909591675\n",
      "\n",
      "Index: 19\n",
      "Time: 15:30:01.463264--15:30:03.788873\n",
      "Total time: 2.3256280422210693\n",
      "\n",
      "### Thread:  123145330724864\n",
      "Index: 1\n",
      "Time: 15:29:38.602939--15:29:40.968389\n",
      "Total time: 2.365457057952881\n",
      "\n",
      "Index: 2\n",
      "Time: 15:29:40.968497--15:29:43.303341\n",
      "Total time: 2.3348639011383057\n",
      "\n",
      "Index: 4\n",
      "Time: 15:29:43.303468--15:29:45.637890\n",
      "Total time: 2.3344411849975586\n",
      "\n",
      "Index: 6\n",
      "Time: 15:29:45.638014--15:29:48.007919\n",
      "Total time: 2.369925022125244\n",
      "\n",
      "Index: 8\n",
      "Time: 15:29:48.008041--15:29:50.520509\n",
      "Total time: 2.512489080429077\n",
      "\n",
      "Index: 10\n",
      "Time: 15:29:50.520635--15:29:53.120910\n",
      "Total time: 2.600296974182129\n",
      "\n",
      "Index: 12\n",
      "Time: 15:29:53.121039--15:29:55.408197\n",
      "Total time: 2.2871780395507812\n",
      "\n",
      "Index: 14\n",
      "Time: 15:29:55.408319--15:29:57.814547\n",
      "Total time: 2.4062459468841553\n",
      "\n",
      "Index: 16\n",
      "Time: 15:29:57.814662--15:30:00.257504\n",
      "Total time: 2.4428610801696777\n",
      "\n",
      "Index: 18\n",
      "Time: 15:30:00.257613--15:30:02.865872\n",
      "Total time: 2.6082839965820312\n",
      "\n"
     ]
    }
   ],
   "source": [
    "thread_info(diag)"
   ]
  },
  {
   "cell_type": "markdown",
   "metadata": {
    "collapsed": true
   },
   "source": [
    "# aggregate and broadcast\n",
    "- tasks are like SCS workspace objects\n",
    "- make the tasks a list of ints, where the int is the size of the array\n",
    "- each one sleeps for a second, and creates the appropriate array\n",
    "- aggregate the arrays (all at the end, or as they come in?)\n",
    "- make them all the same size\n",
    "- put them in a dict?\n",
    "- when does the summing begin?"
   ]
  },
  {
   "cell_type": "code",
   "execution_count": 29,
   "metadata": {
    "collapsed": true
   },
   "outputs": [],
   "source": [
    "import numpy as np\n",
    "from concurrent import futures\n",
    "import time\n",
    "\n",
    "data = [10**7]*8"
   ]
  },
  {
   "cell_type": "code",
   "execution_count": 38,
   "metadata": {
    "collapsed": false
   },
   "outputs": [],
   "source": [
    "def foo(n):\n",
    "    time.sleep(1)\n",
    "    return np.random.randn(n)"
   ]
  },
  {
   "cell_type": "code",
   "execution_count": 40,
   "metadata": {
    "collapsed": false
   },
   "outputs": [
    {
     "name": "stdout",
     "output_type": "stream",
     "text": [
      "CPU times: user 3.78 s, sys: 174 ms, total: 3.95 s\n",
      "Wall time: 12 s\n"
     ]
    }
   ],
   "source": [
    "%%time\n",
    "result = sum(map(foo, data))"
   ]
  },
  {
   "cell_type": "code",
   "execution_count": 41,
   "metadata": {
    "collapsed": false
   },
   "outputs": [
    {
     "name": "stdout",
     "output_type": "stream",
     "text": [
      "CPU times: user 3.74 s, sys: 186 ms, total: 3.93 s\n",
      "Wall time: 6.38 s\n"
     ]
    }
   ],
   "source": [
    "%%time\n",
    "with futures.ThreadPoolExecutor(2) as ex: \n",
    "    result = sum(ex.map(foo, data))"
   ]
  },
  {
   "cell_type": "code",
   "execution_count": 49,
   "metadata": {
    "collapsed": false
   },
   "outputs": [],
   "source": [
    "def summer(g):\n",
    "    total = 0.0\n",
    "    for i in g:\n",
    "        print('got new element.')\n",
    "        #total = total + i\n",
    "    return total"
   ]
  },
  {
   "cell_type": "code",
   "execution_count": 50,
   "metadata": {
    "collapsed": false
   },
   "outputs": [
    {
     "name": "stdout",
     "output_type": "stream",
     "text": [
      "got new element.\n",
      "got new element.\n",
      "got new element.\n",
      "got new element.\n",
      "got new element.\n",
      "got new element.\n",
      "got new element.\n",
      "got new element.\n",
      "got new element.\n",
      "CPU times: user 3.74 ms, sys: 10.8 ms, total: 14.6 ms\n",
      "Wall time: 10 s\n"
     ]
    }
   ],
   "source": [
    "%%time\n",
    "data = [10]+[1]*8\n",
    "\n",
    "with futures.ThreadPoolExecutor(2) as ex: \n",
    "    result = summer(ex.map(time.sleep, data))"
   ]
  },
  {
   "cell_type": "code",
   "execution_count": null,
   "metadata": {
    "collapsed": true
   },
   "outputs": [],
   "source": []
  }
 ],
 "metadata": {
  "kernelspec": {
   "display_name": "Python 3",
   "language": "python",
   "name": "python3"
  },
  "language_info": {
   "codemirror_mode": {
    "name": "ipython",
    "version": 3
   },
   "file_extension": ".py",
   "mimetype": "text/x-python",
   "name": "python",
   "nbconvert_exporter": "python",
   "pygments_lexer": "ipython3",
   "version": "3.5.0"
  }
 },
 "nbformat": 4,
 "nbformat_minor": 0
}
