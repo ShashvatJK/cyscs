{
 "cells": [
  {
   "cell_type": "markdown",
   "metadata": {},
   "source": [
    "# questions\n",
    "- can i put a timing thing into these function calls?\n",
    "- tick and toc the function calls and plot bars over time showing the execution\n",
    "- plot some speedups"
   ]
  },
  {
   "cell_type": "code",
   "execution_count": 20,
   "metadata": {
    "collapsed": false
   },
   "outputs": [
    {
     "name": "stdout",
     "output_type": "stream",
     "text": [
      "The Cython extension is already loaded. To reload it, use:\n",
      "  %reload_ext Cython\n"
     ]
    }
   ],
   "source": [
    "%load_ext Cython\n",
    "from concurrent import futures\n",
    "import numpy as np\n",
    "from collections import defaultdict\n",
    "from select import select\n",
    "from pprint import pprint\n",
    "import functools\n",
    "\n",
    "import time\n",
    "import os\n",
    "import threading\n",
    "\n",
    "from itertools import repeat, count\n",
    "\n",
    "def f_wrap(f, n, task_id):\n",
    "    pid = os.getpid()\n",
    "    tid = threading.get_ident()\n",
    "    start_time = time.time()\n",
    "    \n",
    "    result = f(n)\n",
    "    end_time = time.time()\n",
    "    elapsed_time = end_time - start_time\n",
    "    \n",
    "    info = dict(pid=pid, tid=tid, start_time=start_time, end_time=end_time, elapsed_time=elapsed_time,\n",
    "               n=n, task_id=task_id, result=result)\n",
    "    \n",
    "    return info\n",
    "        \n",
    "# todo, have it return the total time\n",
    "# todo: have f perform the same computation everywhere\n",
    "def meta_map(f, g, executor=None, workers=1):\n",
    "    if executor is None:\n",
    "        ex = None\n",
    "        pmap = map\n",
    "    else:\n",
    "        ex = executor(workers)\n",
    "        pmap = ex.map\n",
    "        \n",
    "    task_ids = count(0)\n",
    "    fs = repeat(f)\n",
    "        \n",
    "    yield from pmap(f_wrap, fs, g, task_ids)\n",
    "\n",
    "    if ex is not None:\n",
    "        ex.shutdown()\n",
    "        \n",
    "def speedup(f, value, n, executor=None, workers=1, runs=4):\n",
    "    if executor is None:\n",
    "        ex = None\n",
    "        pmap = map\n",
    "    else:\n",
    "        ex = executor(workers)\n",
    "        pmap = ex.map\n",
    "        \n",
    "    time1 = np.inf\n",
    "    for _ in range(runs):\n",
    "        start_time = time.time()\n",
    "        f(value)\n",
    "        end_time = time.time()\n",
    "        time1 = min(time1, end_time-start_time)\n",
    "        \n",
    "    g = repeat(value, n)\n",
    "    start_time = time.time()\n",
    "    for _ in pmap(f, g):\n",
    "        pass\n",
    "    end_time = time.time()\n",
    "    elapsed_time = end_time - start_time\n",
    "        \n",
    "    if ex is not None:\n",
    "        ex.shutdown()\n",
    "        \n",
    "    return time1*n/elapsed_time\n",
    "\n",
    "def exec_loc(g):\n",
    "    \"pid, thread_id execution location for each task_id\"\n",
    "    d = defaultdict(list)\n",
    "    for info in g:\n",
    "        t = (info['pid'], info['tid'])\n",
    "        d[t] += [info['task_id']]\n",
    "    return d\n",
    "\n",
    "def worker_id(infos):\n",
    "    d = {}\n",
    "\n",
    "    for info in g:\n",
    "        k = (info['pid'], info['tid'])\n",
    "        if k not in d:\n",
    "            d[k] = len(d)\n",
    "    \n",
    "    for info in g:\n",
    "        k = (info['pid'], info['tid'])\n",
    "        \n",
    "        del info['pid']\n",
    "        del info['tid']\n",
    "        \n",
    "        info['wid'] = d[k]\n",
    "\n",
    "def zero_time(infos):\n",
    "    min_time = np.inf\n",
    "    for info in g:\n",
    "        min_time = min(info['start_time'], min_time)\n",
    "        \n",
    "    for info in g:\n",
    "        info['start_time'] -= min_time\n",
    "        info['end_time'] -= min_time"
   ]
  },
  {
   "cell_type": "code",
   "execution_count": 30,
   "metadata": {
    "collapsed": true
   },
   "outputs": [],
   "source": [
    "# compute bound?\n",
    "\n",
    "def rand_sum(n):\n",
    "    a = np.sum(np.random.randn(n))\n",
    "\n",
    "# io bound\n",
    "def select_time(n):\n",
    "    select([], [], [], 1)\n",
    "\n",
    "# compute bound\n",
    "def npexp(n):\n",
    "    y = np.ones(n)\n",
    "    np.exp(y)"
   ]
  },
  {
   "cell_type": "code",
   "execution_count": 3,
   "metadata": {
    "collapsed": true
   },
   "outputs": [],
   "source": [
    "%%cython\n",
    "\n",
    "from cython cimport boundscheck\n",
    "\n",
    "def test(n):\n",
    "    cdef int m = n\n",
    "    cdef int i, j\n",
    "    cdef float a\n",
    "    a = 0.0\n",
    "    \n",
    "    with nogil:\n",
    "        for i in range(m):\n",
    "            for j in range(m):\n",
    "                a += (i+j)**2-i**2-j**2\n",
    "    \n",
    "    return a\n",
    "\n",
    "\n",
    "#doesn't get multithread speedup\n",
    "cpdef float test2(int n) nogil:\n",
    "    cdef int i, j\n",
    "    cdef float a\n",
    "    a = 0.0\n",
    "    \n",
    "    for i in range(n):\n",
    "        for j in range(n):\n",
    "            a += (i+j)**2-i**2-j**2\n",
    "    \n",
    "    return a\n",
    "\n",
    "cpdef float test3(int n) nogil:\n",
    "    cdef int i, j\n",
    "    cdef float a\n",
    "    a = 0.0\n",
    "    \n",
    "    with nogil:\n",
    "        for i in range(n):\n",
    "            for j in range(n):\n",
    "                a += (i+j)**2-i**2-j**2\n",
    "    \n",
    "    return a\n",
    "\n",
    "def smooth(a,N=10000):\n",
    "    cdef int n = len(a)\n",
    "    cdef int _N = N\n",
    "    cdef int i, j\n",
    "    cdef double[:] b = a\n",
    "    with nogil, boundscheck(False):\n",
    "        for j in range(_N):\n",
    "            for i in range(1,n-1):\n",
    "                b[i] = (b[i-1] + b[i] + b[i+1])/3.0"
   ]
  },
  {
   "cell_type": "code",
   "execution_count": 7,
   "metadata": {
    "collapsed": false
   },
   "outputs": [],
   "source": [
    "n = (10**7)\n",
    "k = 6\n",
    "g = (n for i in range(k))\n",
    "\n",
    "\n",
    "#ex = None\n",
    "ex = futures.ThreadPoolExecutor\n",
    "#ex = futures.ProcessPoolExecutor\n",
    "workers = 2\n",
    "\n",
    "g = meta_map(rand_sum, g, executor=ex, workers=workers)\n",
    "\n",
    "g = list(g)\n",
    "zero_time(g)\n",
    "worker_id(g)"
   ]
  },
  {
   "cell_type": "code",
   "execution_count": 40,
   "metadata": {
    "collapsed": false
   },
   "outputs": [
    {
     "name": "stdout",
     "output_type": "stream",
     "text": [
      "1.6741821680483175\n"
     ]
    }
   ],
   "source": [
    "#%%time\n",
    "n = 10**4\n",
    "tasks = 10\n",
    "\n",
    "#ex = None\n",
    "#ex = futures.ThreadPoolExecutor\n",
    "ex = futures.ProcessPoolExecutor\n",
    "workers = 2\n",
    "\n",
    "print(speedup(test3, n, tasks, ex, workers))"
   ]
  },
  {
   "cell_type": "code",
   "execution_count": 8,
   "metadata": {
    "collapsed": false
   },
   "outputs": [
    {
     "data": {
      "image/png": "[encoded data removed]",
      "text/plain": [
       "<matplotlib.figure.Figure at 0x104ed4668>"
      ]
     },
     "metadata": {},
     "output_type": "display_data"
    }
   ],
   "source": [
    "#todo: compute speedup, plot it over varying # of threads/procs\n",
    "\n",
    "%matplotlib inline\n",
    "import matplotlib.pyplot as plt\n",
    "\n",
    "fig, ax = plt.subplots()\n",
    "for info in g:\n",
    "    ax.broken_barh([(info['start_time'], info['elapsed_time'])], (info['wid']+.5,1))"
   ]
  },
  {
   "cell_type": "code",
   "execution_count": 69,
   "metadata": {
    "collapsed": false
   },
   "outputs": [
    {
     "data": {
      "text/plain": [
       "[<matplotlib.lines.Line2D at 0x1099dfd30>]"
      ]
     },
     "execution_count": 69,
     "metadata": {},
     "output_type": "execute_result"
    },
    {
     "data": {
      "image/png": "[encoded data removed]",
      "text/plain": [
       "<matplotlib.figure.Figure at 0x109806198>"
      ]
     },
     "metadata": {},
     "output_type": "display_data"
    }
   ],
   "source": [
    "%matplotlib inline\n",
    "import numpy as np\n",
    "import matplotlib.pyplot as plt\n",
    "\n",
    "a = np.linspace(-.9,2.3*np.pi,num=10000)\n",
    "a = np.sin(a) + np.random.randn(len(a))*.1\n",
    "\n",
    "plt.plot(a)"
   ]
  },
  {
   "cell_type": "code",
   "execution_count": 92,
   "metadata": {
    "collapsed": false
   },
   "outputs": [
    {
     "name": "stdout",
     "output_type": "stream",
     "text": [
      "CPU times: user 2min 16s, sys: 138 ms, total: 2min 16s\n",
      "Wall time: 2min 16s\n"
     ]
    },
    {
     "data": {
      "image/png": "[encoded data removed]",
      "text/plain": [
       "<matplotlib.figure.Figure at 0x1094e1860>"
      ]
     },
     "metadata": {},
     "output_type": "display_data"
    }
   ],
   "source": [
    "%%time\n",
    "smooth(a,N=1000000)\n",
    "plt.plot(a)"
   ]
  },
  {
   "cell_type": "code",
   "execution_count": 73,
   "metadata": {
    "collapsed": false
   },
   "outputs": [
    {
     "name": "stdout",
     "output_type": "stream",
     "text": [
      "1 loops, best of 3: 2.47 s per loop\n"
     ]
    }
   ],
   "source": [
    "%timeit test2(14**4)"
   ]
  },
  {
   "cell_type": "code",
   "execution_count": 74,
   "metadata": {
    "collapsed": false
   },
   "outputs": [
    {
     "name": "stdout",
     "output_type": "stream",
     "text": [
      "1 loops, best of 3: 2.43 s per loop\n"
     ]
    }
   ],
   "source": [
    "%timeit test(14**4)"
   ]
  },
  {
   "cell_type": "code",
   "execution_count": 90,
   "metadata": {
    "collapsed": false
   },
   "outputs": [
    {
     "name": "stdout",
     "output_type": "stream",
     "text": [
      "..........CPU times: user 6.58 s, sys: 10.7 ms, total: 6.59 s\n",
      "Wall time: 1.94 s\n"
     ]
    }
   ],
   "source": [
    "%%time\n",
    "ex = futures.ThreadPoolExecutor(4)\n",
    "#ex = futures.ProcessPoolExecutor()\n",
    "#ex = None\n",
    "\n",
    "g = [11**4]*10\n",
    "\n",
    "if ex is None:\n",
    "    pmap = map\n",
    "else:\n",
    "    pmap = ex.map\n",
    "\n",
    "\n",
    "for a in pmap(test3, g):\n",
    "    print('.', end='')\n",
    "\n",
    "if ex is not None:\n",
    "    ex.shutdown()"
   ]
  },
  {
   "cell_type": "code",
   "execution_count": 38,
   "metadata": {
    "collapsed": false
   },
   "outputs": [
    {
     "name": "stdout",
     "output_type": "stream",
     "text": [
      "1 loops, best of 3: 723 ms per loop\n"
     ]
    }
   ],
   "source": [
    "%timeit test(12**4)"
   ]
  }
 ],
 "metadata": {
  "kernelspec": {
   "display_name": "Python 3",
   "language": "python",
   "name": "python3"
  },
  "language_info": {
   "codemirror_mode": {
    "name": "ipython",
    "version": 3
   },
   "file_extension": ".py",
   "mimetype": "text/x-python",
   "name": "python",
   "nbconvert_exporter": "python",
   "pygments_lexer": "ipython3",
   "version": "3.5.0"
  }
 },
 "nbformat": 4,
 "nbformat_minor": 0
}
